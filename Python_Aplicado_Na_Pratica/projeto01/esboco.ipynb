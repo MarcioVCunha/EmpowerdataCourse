{
 "cells": [
  {
   "cell_type": "markdown",
   "metadata": {},
   "source": [
    "### Dúvidas\n",
    "\n",
    "- Total de Colunas: 11\n",
    "\n",
    "- Qual a origem dos relatórios\n",
    "    - Resp: Eles são extraídos do sistema de venda.\n",
    "\n",
    "- Nome da aba é sempre dados?\n",
    "\n",
    "- Data é a data de realização da venda?\n",
    "    - Resp: Sim!\n",
    "\n",
    "- Quem são os compradores?\n",
    "    - O nome do arquivo tem algo a ver com isso?\n",
    "        - Resp: Nome do arquivo é configurado da seguinte forma:\n",
    "        \n",
    "        `nome do segmento - país onde foi realizada a venda`\n",
    "\n",
    "        "
   ]
  },
  {
   "cell_type": "code",
   "execution_count": null,
   "metadata": {},
   "outputs": [],
   "source": []
  }
 ],
 "metadata": {
  "kernelspec": {
   "display_name": "venv",
   "language": "python",
   "name": "python3"
  },
  "language_info": {
   "codemirror_mode": {
    "name": "ipython",
    "version": 3
   },
   "file_extension": ".py",
   "mimetype": "text/x-python",
   "name": "python",
   "nbconvert_exporter": "python",
   "pygments_lexer": "ipython3",
   "version": "3.10.9"
  },
  "orig_nbformat": 4
 },
 "nbformat": 4,
 "nbformat_minor": 2
}
