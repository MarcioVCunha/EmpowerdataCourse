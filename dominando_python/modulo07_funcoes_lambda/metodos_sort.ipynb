{
 "cells": [
  {
   "attachments": {},
   "cell_type": "markdown",
   "metadata": {},
   "source": [
    "# Método sort()\n",
    "\n",
    "- Utilizado para ordernar elementos\n",
    "- Modifica o objeto origianl\n",
    "- Possui um parâmetro chamado key"
   ]
  },
  {
   "cell_type": "code",
   "execution_count": 13,
   "metadata": {},
   "outputs": [
    {
     "name": "stdout",
     "output_type": "stream",
     "text": [
      "['Marcio', 'Maria', 'Ana', 'Gabriel', 'Lucas']\n"
     ]
    }
   ],
   "source": [
    "pessoas = [\"Marcio\", \"Maria\", \"Ana\", \"Gabriel\", \"Lucas\"]\n",
    "print(pessoas)"
   ]
  },
  {
   "cell_type": "code",
   "execution_count": 14,
   "metadata": {},
   "outputs": [
    {
     "name": "stdout",
     "output_type": "stream",
     "text": [
      "['Ana', 'Gabriel', 'Lucas', 'Marcio', 'Maria']\n"
     ]
    }
   ],
   "source": [
    "pessoas.sort()\n",
    "print(pessoas)"
   ]
  },
  {
   "cell_type": "code",
   "execution_count": 15,
   "metadata": {},
   "outputs": [
    {
     "name": "stdout",
     "output_type": "stream",
     "text": [
      "[('Marcio', 23), ('Maria', 40), ('Ana', 22), ('Gabriel', 65), ('Lucas', 13)]\n"
     ]
    }
   ],
   "source": [
    "pessoas = [(\"Marcio\", 23), (\"Maria\", 40), (\"Ana\", 22), (\"Gabriel\", 65), (\"Lucas\", 13)]\n",
    "print(pessoas)"
   ]
  },
  {
   "cell_type": "code",
   "execution_count": 16,
   "metadata": {},
   "outputs": [
    {
     "name": "stdout",
     "output_type": "stream",
     "text": [
      "[('Ana', 22), ('Gabriel', 65), ('Lucas', 13), ('Marcio', 23), ('Maria', 40)]\n"
     ]
    }
   ],
   "source": [
    "pessoas.sort()\n",
    "print(pessoas)"
   ]
  },
  {
   "cell_type": "code",
   "execution_count": 17,
   "metadata": {},
   "outputs": [
    {
     "name": "stdout",
     "output_type": "stream",
     "text": [
      "[('Lucas', 13), ('Ana', 22), ('Marcio', 23), ('Maria', 40), ('Gabriel', 65)]\n"
     ]
    }
   ],
   "source": [
    "pessoas.sort(key = lambda nome: nome[1])\n",
    "print(pessoas)"
   ]
  },
  {
   "cell_type": "code",
   "execution_count": 18,
   "metadata": {},
   "outputs": [
    {
     "name": "stdout",
     "output_type": "stream",
     "text": [
      "[('Gabriel', 65), ('Maria', 40), ('Marcio', 23), ('Ana', 22), ('Lucas', 13)]\n"
     ]
    }
   ],
   "source": [
    "pessoas.sort(key = lambda nome: nome[1], reverse=True)\n",
    "print(pessoas)"
   ]
  },
  {
   "cell_type": "code",
   "execution_count": null,
   "metadata": {},
   "outputs": [],
   "source": []
  }
 ],
 "metadata": {
  "kernelspec": {
   "display_name": "base",
   "language": "python",
   "name": "python3"
  },
  "language_info": {
   "codemirror_mode": {
    "name": "ipython",
    "version": 3
   },
   "file_extension": ".py",
   "mimetype": "text/x-python",
   "name": "python",
   "nbconvert_exporter": "python",
   "pygments_lexer": "ipython3",
   "version": "3.10.9"
  },
  "orig_nbformat": 4
 },
 "nbformat": 4,
 "nbformat_minor": 2
}
