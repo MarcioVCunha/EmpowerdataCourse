{
 "cells": [
  {
   "attachments": {},
   "cell_type": "markdown",
   "metadata": {},
   "source": [
    "# if - else - elif\n",
    "\n",
    "Crie uma função que receba uma idade e retorne a sua faixa etária de acordo com as específicações abaixo:\n",
    "\n",
    "- 0 a 18: menor de dezoito anos\n",
    "- 18 a 60: adulto(a)\n",
    "- 60 a 100: idoso(a)\n",
    "- maior que 100: centenário(a)\n",
    "- menor que 0: idade invalida!"
   ]
  },
  {
   "cell_type": "code",
   "execution_count": 11,
   "metadata": {},
   "outputs": [],
   "source": [
    "def faixa_etaria(idade):\n",
    "    if(idade < 0):\n",
    "        print(\"Idade invalida!\")\n",
    "    elif(idade < 18):\n",
    "        print(\"Menor de dezoito anos\")\n",
    "    elif(idade < 60):\n",
    "        print(\"Adulto(a)\")\n",
    "    elif(idade < 100):\n",
    "        print(\"Idoso(a)\")\n",
    "    else:\n",
    "        print(\"Centenário\")"
   ]
  },
  {
   "cell_type": "code",
   "execution_count": 12,
   "metadata": {},
   "outputs": [
    {
     "name": "stdout",
     "output_type": "stream",
     "text": [
      "Adulto(a)\n"
     ]
    }
   ],
   "source": [
    "faixa_etaria(20)"
   ]
  }
 ],
 "metadata": {
  "kernelspec": {
   "display_name": "base",
   "language": "python",
   "name": "python3"
  },
  "language_info": {
   "codemirror_mode": {
    "name": "ipython",
    "version": 3
   },
   "file_extension": ".py",
   "mimetype": "text/x-python",
   "name": "python",
   "nbconvert_exporter": "python",
   "pygments_lexer": "ipython3",
   "version": "3.10.9"
  },
  "orig_nbformat": 4
 },
 "nbformat": 4,
 "nbformat_minor": 2
}
