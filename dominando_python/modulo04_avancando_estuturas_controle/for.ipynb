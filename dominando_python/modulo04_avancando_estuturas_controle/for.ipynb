{
 "cells": [
  {
   "attachments": {},
   "cell_type": "markdown",
   "metadata": {},
   "source": [
    "# looping for\n",
    "\n",
    "Range\n",
    "\n",
    "- Cria um objeto range que é uma sequencia de números\n",
    "- É iterável\n",
    "- Pode ser utilizado em testes lógicos e com o for\n",
    "- Contém os parametros start (inclusivo), stop (exclusivo) e step"
   ]
  },
  {
   "cell_type": "code",
   "execution_count": 21,
   "metadata": {},
   "outputs": [
    {
     "name": "stdout",
     "output_type": "stream",
     "text": [
      "0\n",
      "1\n",
      "2\n",
      "3\n",
      "É o 3!\n",
      "4\n",
      "5\n",
      "6\n",
      "7\n",
      "8\n",
      "9\n",
      "True\n",
      "False\n",
      "False\n"
     ]
    }
   ],
   "source": [
    "for i in range(10):\n",
    "    print(i)\n",
    "    if(i == 3):\n",
    "        print(\"É o 3!\")\n",
    "\n",
    "print(10 in range(50))\n",
    "print(100 in range(50))\n",
    "print(3 in range(0, 50, 2))"
   ]
  },
  {
   "attachments": {},
   "cell_type": "markdown",
   "metadata": {},
   "source": [
    "# Enumerate\n",
    "\n",
    "- Retorna um objeto enumerate (enumerado)\n",
    "- Deve ser aplicado sobre um iterable (objeto iterável)\n",
    "- Possui o parâmetro start"
   ]
  },
  {
   "cell_type": "code",
   "execution_count": 17,
   "metadata": {},
   "outputs": [
    {
     "name": "stdout",
     "output_type": "stream",
     "text": [
      "<enumerate object at 0x000001EDB651F000>\n",
      "[(0, 'Marcio'), (1, 'Maria'), (2, 'João')]\n",
      "[(0, 'E'), (1, 'u'), (2, ' '), (3, 'e'), (4, 's'), (5, 't'), (6, 'o'), (7, 'u'), (8, ' '), (9, 'a'), (10, 'p'), (11, 'r'), (12, 'e'), (13, 'n'), (14, 'd'), (15, 'e'), (16, 'n'), (17, 'd'), (18, 'o'), (19, ' '), (20, 'a'), (21, ' '), (22, 'l'), (23, 'i'), (24, 'n'), (25, 'g'), (26, 'u'), (27, 'a'), (28, 'g'), (29, 'e'), (30, 'm'), (31, ' '), (32, 'p'), (33, 'y'), (34, 't'), (35, 'h'), (36, 'o'), (37, 'n')]\n",
      "Time 1: Flamengo\n",
      "Time 2: Botafogo\n",
      "Time 3: Fluminense\n",
      "Time 4: São Paulo\n",
      "Time 5: Palmeiras\n"
     ]
    }
   ],
   "source": [
    "nomes = ['Marcio', 'Maria', 'João']\n",
    "print(enumerate(nomes))\n",
    "print(list(enumerate(nomes)))\n",
    "\n",
    "texto = 'Eu estou aprendendo a linguagem python'\n",
    "print(list(enumerate(texto)))\n",
    "\n",
    "times = ['Flamengo', 'Botafogo', 'Fluminense', 'São Paulo', 'Palmeiras']\n",
    "for indice, time in enumerate(times, start=1):\n",
    "    print(f'Time {indice}: {time}')"
   ]
  },
  {
   "attachments": {},
   "cell_type": "markdown",
   "metadata": {},
   "source": [
    "# loppings aninhados"
   ]
  },
  {
   "cell_type": "code",
   "execution_count": 25,
   "metadata": {},
   "outputs": [
    {
     "name": "stdout",
     "output_type": "stream",
     "text": [
      "Maria\n",
      "37\n",
      "70\n",
      "Joao\n",
      "23\n",
      "80\n",
      "Gabriel\n",
      "15\n",
      "58\n",
      "Lucas\n",
      "12\n",
      "39\n",
      "1\n",
      "2\n",
      "4\n",
      "4\n",
      "5\n",
      "6\n",
      "7\n",
      "8\n",
      "9\n",
      "10\n",
      "11\n",
      "12\n"
     ]
    }
   ],
   "source": [
    "pessoas = [('Maria', 37, 70), ('Joao', 23, 80), ('Gabriel', 15, 58), ('Lucas', 12, 39)]\n",
    "for pessoa in pessoas:\n",
    "    for dados in pessoa:\n",
    "        print(dados)\n",
    "\n",
    "lista = [[(1, 2, 4), (4, 5, 6)], [(7, 8, 9), (10, 11, 12)]]\n",
    "for i in lista:\n",
    "    for j in i:\n",
    "        for k in j:\n",
    "            print(k)"
   ]
  },
  {
   "attachments": {},
   "cell_type": "markdown",
   "metadata": {},
   "source": [
    "# Projeto Tabuada\n",
    "\n",
    "Utilize a linguagem Python para gerar automaticamente a tabuada de 1 a 9!"
   ]
  },
  {
   "cell_type": "code",
   "execution_count": 30,
   "metadata": {},
   "outputs": [
    {
     "name": "stdout",
     "output_type": "stream",
     "text": [
      "\n",
      "\n",
      "1 x 1 = 1\n",
      "1 x 2 = 2\n",
      "1 x 3 = 3\n",
      "1 x 4 = 4\n",
      "1 x 5 = 5\n",
      "1 x 6 = 6\n",
      "1 x 7 = 7\n",
      "1 x 8 = 8\n",
      "1 x 9 = 9\n",
      "\n",
      "\n",
      "2 x 1 = 2\n",
      "2 x 2 = 4\n",
      "2 x 3 = 6\n",
      "2 x 4 = 8\n",
      "2 x 5 = 10\n",
      "2 x 6 = 12\n",
      "2 x 7 = 14\n",
      "2 x 8 = 16\n",
      "2 x 9 = 18\n",
      "\n",
      "\n",
      "3 x 1 = 3\n",
      "3 x 2 = 6\n",
      "3 x 3 = 9\n",
      "3 x 4 = 12\n",
      "3 x 5 = 15\n",
      "3 x 6 = 18\n",
      "3 x 7 = 21\n",
      "3 x 8 = 24\n",
      "3 x 9 = 27\n",
      "\n",
      "\n",
      "4 x 1 = 4\n",
      "4 x 2 = 8\n",
      "4 x 3 = 12\n",
      "4 x 4 = 16\n",
      "4 x 5 = 20\n",
      "4 x 6 = 24\n",
      "4 x 7 = 28\n",
      "4 x 8 = 32\n",
      "4 x 9 = 36\n",
      "\n",
      "\n",
      "5 x 1 = 5\n",
      "5 x 2 = 10\n",
      "5 x 3 = 15\n",
      "5 x 4 = 20\n",
      "5 x 5 = 25\n",
      "5 x 6 = 30\n",
      "5 x 7 = 35\n",
      "5 x 8 = 40\n",
      "5 x 9 = 45\n",
      "\n",
      "\n",
      "6 x 1 = 6\n",
      "6 x 2 = 12\n",
      "6 x 3 = 18\n",
      "6 x 4 = 24\n",
      "6 x 5 = 30\n",
      "6 x 6 = 36\n",
      "6 x 7 = 42\n",
      "6 x 8 = 48\n",
      "6 x 9 = 54\n",
      "\n",
      "\n",
      "7 x 1 = 7\n",
      "7 x 2 = 14\n",
      "7 x 3 = 21\n",
      "7 x 4 = 28\n",
      "7 x 5 = 35\n",
      "7 x 6 = 42\n",
      "7 x 7 = 49\n",
      "7 x 8 = 56\n",
      "7 x 9 = 63\n",
      "\n",
      "\n",
      "8 x 1 = 8\n",
      "8 x 2 = 16\n",
      "8 x 3 = 24\n",
      "8 x 4 = 32\n",
      "8 x 5 = 40\n",
      "8 x 6 = 48\n",
      "8 x 7 = 56\n",
      "8 x 8 = 64\n",
      "8 x 9 = 72\n",
      "\n",
      "\n",
      "9 x 1 = 9\n",
      "9 x 2 = 18\n",
      "9 x 3 = 27\n",
      "9 x 4 = 36\n",
      "9 x 5 = 45\n",
      "9 x 6 = 54\n",
      "9 x 7 = 63\n",
      "9 x 8 = 72\n",
      "9 x 9 = 81\n"
     ]
    }
   ],
   "source": [
    "for numero in range(1, 10):\n",
    "    print('\\n')\n",
    "    for multiplicador in range(1, 10):\n",
    "        print(f'{numero} x {multiplicador} = {numero * multiplicador}')\n"
   ]
  }
 ],
 "metadata": {
  "kernelspec": {
   "display_name": "base",
   "language": "python",
   "name": "python3"
  },
  "language_info": {
   "codemirror_mode": {
    "name": "ipython",
    "version": 3
   },
   "file_extension": ".py",
   "mimetype": "text/x-python",
   "name": "python",
   "nbconvert_exporter": "python",
   "pygments_lexer": "ipython3",
   "version": "3.10.9"
  },
  "orig_nbformat": 4
 },
 "nbformat": 4,
 "nbformat_minor": 2
}
