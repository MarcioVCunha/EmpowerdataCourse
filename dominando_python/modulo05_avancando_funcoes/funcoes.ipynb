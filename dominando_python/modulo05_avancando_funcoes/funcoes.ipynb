{
 "cells": [
  {
   "attachments": {},
   "cell_type": "markdown",
   "metadata": {},
   "source": [
    "# Funções\n",
    "\n",
    "- Reaproveitamento de código\n",
    "- Código mais organizado\n",
    "- Podem ou não ter parâmetros\n",
    "- Parâmetros podem ter valores padrões\n",
    "- Podem ou não ter retorno\n",
    "- Abstração de complexidade"
   ]
  },
  {
   "attachments": {},
   "cell_type": "markdown",
   "metadata": {},
   "source": [
    "# Parametros posicionais e parâmetros nomeados"
   ]
  },
  {
   "cell_type": "code",
   "execution_count": 21,
   "metadata": {},
   "outputs": [],
   "source": [
    "def mostra_numeros(numero_1, numero_2, numero_3):\n",
    "    print(numero_1, numero_2, numero_3)"
   ]
  },
  {
   "cell_type": "code",
   "execution_count": 22,
   "metadata": {},
   "outputs": [
    {
     "name": "stdout",
     "output_type": "stream",
     "text": [
      "10 20 30\n"
     ]
    }
   ],
   "source": [
    "mostra_numeros(10, 20, 30) # Parâmetros posicionais"
   ]
  },
  {
   "cell_type": "code",
   "execution_count": 23,
   "metadata": {},
   "outputs": [
    {
     "name": "stdout",
     "output_type": "stream",
     "text": [
      "30 10 20\n"
     ]
    }
   ],
   "source": [
    "mostra_numeros(numero_3=20, numero_1=30, numero_2=10) # Parâmetros noemados"
   ]
  },
  {
   "attachments": {},
   "cell_type": "markdown",
   "metadata": {},
   "source": [
    "# Docstrings"
   ]
  },
  {
   "cell_type": "code",
   "execution_count": 24,
   "metadata": {},
   "outputs": [],
   "source": [
    "def somar(numero_1, numero_2):\n",
    "    '''\n",
    "    A função somar() foi desenvolvida para retornar a soma de dois números inteiros.\n",
    "\n",
    "    :param numero_1: primeiro número inteiro\n",
    "    :param numero_2: segundo número inteiro\n",
    "\n",
    "    :return: retorna a soma de numero_1 e numero_2\n",
    "    '''\n",
    "\n",
    "    return numero_1 + numero_2"
   ]
  },
  {
   "cell_type": "code",
   "execution_count": 25,
   "metadata": {},
   "outputs": [
    {
     "name": "stdout",
     "output_type": "stream",
     "text": [
      "Help on function somar in module __main__:\n",
      "\n",
      "somar(numero_1, numero_2)\n",
      "    A função somar() foi desenvolvida para retornar a soma de dois números inteiros.\n",
      "    \n",
      "    :param numero_1: primeiro número inteiro\n",
      "    :param numero_2: segundo número inteiro\n",
      "    \n",
      "    :return: retorna a soma de numero_1 e numero_2\n",
      "\n"
     ]
    }
   ],
   "source": [
    "help(somar)"
   ]
  },
  {
   "attachments": {},
   "cell_type": "markdown",
   "metadata": {},
   "source": [
    "# *args\n",
    "\n",
    "O *args é um parâmetro especial (pode ter qualquer nome, desde que tenha o asterisco!) que nos permite passar várioas argumentos para uma função. Os argumentos são transformados em uma <strong>tupla</strong>. O * é um operador de desempacotamento, introduzido na versão 2 da linguagem e pode ser utilizado com qualquer objeto interável"
   ]
  },
  {
   "cell_type": "code",
   "execution_count": 26,
   "metadata": {},
   "outputs": [
    {
     "name": "stdout",
     "output_type": "stream",
     "text": [
      "(1, 2, 3)\n",
      "1 2 3\n",
      "[1, 2, 3]\n",
      "1 2 3\n",
      "Marcio\n",
      "M a r c i o\n"
     ]
    }
   ],
   "source": [
    "numeros = (1, 2, 3)\n",
    "print(numeros)\n",
    "print(*numeros)\n",
    "\n",
    "numeros = [1, 2, 3]\n",
    "print(numeros)\n",
    "print(*numeros)\n",
    "\n",
    "nome = \"Marcio\"\n",
    "print(nome)\n",
    "print(*nome)\n"
   ]
  },
  {
   "cell_type": "code",
   "execution_count": 27,
   "metadata": {},
   "outputs": [
    {
     "name": "stdout",
     "output_type": "stream",
     "text": [
      "(1, 2, 3, 4, 5)\n"
     ]
    }
   ],
   "source": [
    "def somar(*args): # Transforma os números inteiros em Tuplas\n",
    "    print(args)\n",
    "\n",
    "somar(1, 2, 3, 4, 5) "
   ]
  },
  {
   "cell_type": "code",
   "execution_count": 33,
   "metadata": {},
   "outputs": [
    {
     "name": "stdout",
     "output_type": "stream",
     "text": [
      "231\n",
      "0\n"
     ]
    }
   ],
   "source": [
    "def somarDefinitivo(*args):\n",
    "    return sum(args)\n",
    "\n",
    "print(somarDefinitivo(11, 22, 33, 44, 55, 66))\n",
    "print(somarDefinitivo()) # *args é opicional"
   ]
  },
  {
   "cell_type": "code",
   "execution_count": 29,
   "metadata": {},
   "outputs": [
    {
     "data": {
      "text/plain": [
       "6"
      ]
     },
     "execution_count": 29,
     "metadata": {},
     "output_type": "execute_result"
    }
   ],
   "source": [
    "def somar_3_numeros(a, b, c):\n",
    "    return a + b + c\n",
    "\n",
    "somar_3_numeros(*[1, 2, 3]) # Transforma a lista em 3 números inteiros"
   ]
  },
  {
   "cell_type": "code",
   "execution_count": 34,
   "metadata": {},
   "outputs": [
    {
     "data": {
      "text/plain": [
       "100"
      ]
     },
     "execution_count": 34,
     "metadata": {},
     "output_type": "execute_result"
    }
   ],
   "source": [
    "def somar(*numeros):\n",
    "    return sum(numeros)\n",
    "\n",
    "somar(10, 20, 30, 40)"
   ]
  },
  {
   "attachments": {},
   "cell_type": "markdown",
   "metadata": {},
   "source": [
    "# **kwargs\n",
    "\n",
    "O **kwards é um parâmetro especial (pode ter qualquer nome, desde que tenha os dois asteríscos!) que nos permite passar vários argumentos para uma função. Os argumentos são transformados em um <strong>dicionário</strong>. O ** é um operador de desempacotamento, introduzido na versão 2 da linguagem e só pode ser utilizado com dicionários."
   ]
  },
  {
   "cell_type": "code",
   "execution_count": 36,
   "metadata": {},
   "outputs": [
    {
     "name": "stdout",
     "output_type": "stream",
     "text": [
      "{'nome': 'Marcio', 'lingaugem': 'Python'}\n"
     ]
    }
   ],
   "source": [
    "dict_a = {\"nome\": \"Marcio\"}\n",
    "dict_b = {\"lingaugem\": \"Python\"}\n",
    "dict_c = {**dict_a, **dict_b}\n",
    "print(dict_c)"
   ]
  },
  {
   "cell_type": "code",
   "execution_count": 42,
   "metadata": {},
   "outputs": [
    {
     "name": "stdout",
     "output_type": "stream",
     "text": [
      "{'nome': 'Vinicius', 'linguagem': 'Python', 'status': 'True', 'login': 'Empowerdata'}\n"
     ]
    }
   ],
   "source": [
    "def funcao_calculadora(**kwargs):\n",
    "    print(kwargs)\n",
    "\n",
    "funcao_calculadora(nome=\"Vinicius\", linguagem=\"Python\", status=\"True\", login=\"Empowerdata\")"
   ]
  },
  {
   "cell_type": "code",
   "execution_count": 48,
   "metadata": {},
   "outputs": [
    {
     "name": "stdout",
     "output_type": "stream",
     "text": [
      "Valores:\n",
      "Vinicius\n",
      "Python\n",
      "True\n",
      "Empowerdata\n",
      "\n",
      "Chaves:\n",
      "nome\n",
      "linguagem\n",
      "status\n",
      "login\n",
      "\n",
      "Items:\n",
      "('nome', 'Vinicius')\n",
      "('linguagem', 'Python')\n",
      "('status', 'True')\n",
      "('login', 'Empowerdata')\n"
     ]
    }
   ],
   "source": [
    "def funcao_calculadora(**parametros):\n",
    "    print(\"Valores:\")\n",
    "    for value in parametros.values():\n",
    "        print(value)\n",
    "\n",
    "    print(\"\\nChaves:\")\n",
    "    for key in parametros.keys():\n",
    "        print(key)\n",
    "    print(\"\\nItems:\")\n",
    "    for item in parametros.items():\n",
    "        print(item)\n",
    "\n",
    "funcao_calculadora(nome=\"Vinicius\", linguagem=\"Python\", status=\"True\", login=\"Empowerdata\")"
   ]
  },
  {
   "attachments": {},
   "cell_type": "markdown",
   "metadata": {},
   "source": [
    "# Ordem correta dos paramentros de uma função\n",
    "\n",
    "def func(posicionais, *args, **kwargs)"
   ]
  },
  {
   "attachments": {},
   "cell_type": "markdown",
   "metadata": {},
   "source": [
    "# Callable - passando funções para funções"
   ]
  },
  {
   "cell_type": "code",
   "execution_count": 54,
   "metadata": {},
   "outputs": [
    {
     "name": "stdout",
     "output_type": "stream",
     "text": [
      "True\n",
      "True\n",
      "False\n",
      "True\n"
     ]
    }
   ],
   "source": [
    "lista = [1, 2, 3]\n",
    "\n",
    "print(callable(sum))\n",
    "print(callable(print))\n",
    "print(callable(lista))\n",
    "print(callable(list))"
   ]
  },
  {
   "cell_type": "code",
   "execution_count": 70,
   "metadata": {},
   "outputs": [],
   "source": [
    "def somar(*args):\n",
    "    return sum(args)\n",
    "\n",
    "def subtrair(*args):\n",
    "    valor = 0\n",
    "    for i in args:\n",
    "        valor -= i\n",
    "    return valor\n",
    "\n",
    "def multiplicar(*args):\n",
    "    valor = 1\n",
    "    for i in args:\n",
    "        valor *= i\n",
    "    return valor\n"
   ]
  },
  {
   "cell_type": "code",
   "execution_count": 74,
   "metadata": {},
   "outputs": [],
   "source": [
    "def calculadora(*args, funcao):\n",
    "    if(callable(funcao)):\n",
    "        resultado = funcao(*args)\n",
    "        return resultado\n",
    "    else:\n",
    "        return \"Esta função não existe\""
   ]
  },
  {
   "cell_type": "code",
   "execution_count": 76,
   "metadata": {},
   "outputs": [
    {
     "data": {
      "text/plain": [
       "24"
      ]
     },
     "execution_count": 76,
     "metadata": {},
     "output_type": "execute_result"
    }
   ],
   "source": [
    "calculadora(1, 2, 3, 4, funcao=multiplicar)"
   ]
  }
 ],
 "metadata": {
  "kernelspec": {
   "display_name": "base",
   "language": "python",
   "name": "python3"
  },
  "language_info": {
   "codemirror_mode": {
    "name": "ipython",
    "version": 3
   },
   "file_extension": ".py",
   "mimetype": "text/x-python",
   "name": "python",
   "nbconvert_exporter": "python",
   "pygments_lexer": "ipython3",
   "version": "3.10.9"
  },
  "orig_nbformat": 4
 },
 "nbformat": 4,
 "nbformat_minor": 2
}
