{
 "cells": [
  {
   "attachments": {},
   "cell_type": "markdown",
   "metadata": {},
   "source": [
    "# Conversoes de tipos (Casting)"
   ]
  },
  {
   "cell_type": "code",
   "execution_count": 19,
   "metadata": {},
   "outputs": [
    {
     "name": "stdout",
     "output_type": "stream",
     "text": [
      "6\n",
      "10\n",
      "10\n",
      "True\n",
      "1\n"
     ]
    }
   ],
   "source": [
    "# convertendo para int --> int()\n",
    "\n",
    "print(3 + int(\"3\"))\n",
    "print(int(10.2))\n",
    "print(int(10.9))\n",
    "\n",
    "print(int(10.9) == int(10.2))\n",
    "\n",
    "# int(\"0.1\") vai dar erro\n",
    "\n",
    "print(int(True))\n",
    "print(int(False))"
   ]
  },
  {
   "cell_type": "code",
   "execution_count": 25,
   "metadata": {},
   "outputs": [
    {
     "name": "stdout",
     "output_type": "stream",
     "text": [
      "0.1\n",
      "10.0\n",
      "0.0\n",
      "1.0\n"
     ]
    }
   ],
   "source": [
    "# convertendo para float --> float()\n",
    "\n",
    "print(float('0.1'))\n",
    "print(float(10))\n",
    "\n",
    "print(float(False))\n",
    "print(float(True))"
   ]
  },
  {
   "cell_type": "code",
   "execution_count": 27,
   "metadata": {},
   "outputs": [
    {
     "name": "stdout",
     "output_type": "stream",
     "text": [
      "10\n",
      "12.9\n"
     ]
    }
   ],
   "source": [
    "# convertendo para string --> str\n",
    "\n",
    "print(str(10))\n",
    "print(str(12.9))"
   ]
  },
  {
   "cell_type": "code",
   "execution_count": 23,
   "metadata": {},
   "outputs": [
    {
     "name": "stdout",
     "output_type": "stream",
     "text": [
      "-- Numeros --\n",
      "True\n",
      "False\n",
      "True\n",
      "True\n",
      "-- Strings --\n",
      "True\n",
      "False\n"
     ]
    }
   ],
   "source": [
    "# Convertendo para booleano --> bool()\n",
    "\n",
    "print('-- Numeros --')\n",
    "print(bool(1))\n",
    "print(bool(0))\n",
    "print(bool(-13))\n",
    "print(bool(0.1))\n",
    "\n",
    "print('-- Strings --')\n",
    "print(bool('Marcio'))\n",
    "print(bool(''))"
   ]
  },
  {
   "attachments": {},
   "cell_type": "markdown",
   "metadata": {},
   "source": [
    "# F-strings"
   ]
  },
  {
   "cell_type": "code",
   "execution_count": 28,
   "metadata": {},
   "outputs": [
    {
     "name": "stdout",
     "output_type": "stream",
     "text": [
      "Numero: 10\n",
      "Numero: 10\n"
     ]
    }
   ],
   "source": [
    "numero = 10\n",
    "# print('Numero: ' + numero) vai dar erro\n",
    "print('Numero: ' + str(numero))\n",
    "print(f'Numero: {numero}')"
   ]
  }
 ],
 "metadata": {
  "kernelspec": {
   "display_name": "base",
   "language": "python",
   "name": "python3"
  },
  "language_info": {
   "codemirror_mode": {
    "name": "ipython",
    "version": 3
   },
   "file_extension": ".py",
   "mimetype": "text/x-python",
   "name": "python",
   "nbconvert_exporter": "python",
   "pygments_lexer": "ipython3",
   "version": "3.10.9"
  },
  "orig_nbformat": 4
 },
 "nbformat": 4,
 "nbformat_minor": 2
}
