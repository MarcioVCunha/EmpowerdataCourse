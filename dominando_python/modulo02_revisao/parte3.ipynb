{
 "cells": [
  {
   "attachments": {},
   "cell_type": "markdown",
   "metadata": {},
   "source": [
    "# Estruturas de dados"
   ]
  },
  {
   "cell_type": "code",
   "execution_count": 5,
   "metadata": {},
   "outputs": [
    {
     "name": "stdout",
     "output_type": "stream",
     "text": [
      "<class 'list'>\n",
      "['__add__', '__class__', '__class_getitem__', '__contains__', '__delattr__', '__delitem__', '__dir__', '__doc__', '__eq__', '__format__', '__ge__', '__getattribute__', '__getitem__', '__gt__', '__hash__', '__iadd__', '__imul__', '__init__', '__init_subclass__', '__iter__', '__le__', '__len__', '__lt__', '__mul__', '__ne__', '__new__', '__reduce__', '__reduce_ex__', '__repr__', '__reversed__', '__rmul__', '__setattr__', '__setitem__', '__sizeof__', '__str__', '__subclasshook__', 'append', 'clear', 'copy', 'count', 'extend', 'index', 'insert', 'pop', 'remove', 'reverse', 'sort']\n",
      "[1, 2.34, True, 'Empowerdata', 'Empowerpython']\n",
      "[2, 2.34, True, 'Empowerdata', 'Empowerpython']\n",
      "[2, 2.34, True, 'Empowerdata', 'Empowerpython', 'VScode']\n",
      "[2, 2.34, 'Empowerdata', 'Empowerpython', 'VScode']\n",
      "Help on built-in function remove:\n",
      "\n",
      "remove(value, /) method of builtins.list instance\n",
      "    Remove first occurrence of value.\n",
      "    \n",
      "    Raises ValueError if the value is not present.\n",
      "\n",
      "None\n"
     ]
    }
   ],
   "source": [
    "# listas (list)\n",
    "\n",
    "minha_lista = [1, 2.34, True, 'Empowerdata', 'Empowerpython']\n",
    "print(type(minha_lista))\n",
    "print(dir(minha_lista))\n",
    "\n",
    "# alterar um elemento da lista\n",
    "print(minha_lista)\n",
    "minha_lista[0] = 2\n",
    "print(minha_lista)\n",
    "\n",
    "# adcionar elementos\n",
    "minha_lista.append('VScode')\n",
    "print(minha_lista)\n",
    "\n",
    "# apagar elementos\n",
    "minha_lista.remove(True)\n",
    "print(minha_lista)\n",
    "print(help(minha_lista.remove))"
   ]
  },
  {
   "cell_type": "code",
   "execution_count": 12,
   "metadata": {},
   "outputs": [
    {
     "name": "stdout",
     "output_type": "stream",
     "text": [
      "<class 'tuple'>\n",
      "(1, 2.33, 'Marcio')\n",
      "<class 'tuple'>\n",
      "(1, 2, 3, 'Marcio', True)\n",
      "2.33\n",
      "(2.33, 'Marcio')\n",
      "(2.33,)\n"
     ]
    }
   ],
   "source": [
    "# tuplas (são imutáveis e indexados) (tuple)\n",
    "\n",
    "minha_tupla = (1, 2.33, 'Marcio')\n",
    "print(type(minha_tupla))\n",
    "print(minha_tupla)\n",
    "\n",
    "minha_segunda_tupla = 1, 2, 3, 'Marcio', True\n",
    "print(type(minha_segunda_tupla))\n",
    "print(minha_segunda_tupla)\n",
    "\n",
    "print(minha_tupla[1])\n",
    "print(minha_tupla[1:])\n",
    "print(minha_tupla[1:2])"
   ]
  },
  {
   "cell_type": "code",
   "execution_count": 20,
   "metadata": {},
   "outputs": [
    {
     "name": "stdout",
     "output_type": "stream",
     "text": [
      "{'nome': 'Marcio', 'idade': 23, 'linguage': 'Python'}\n",
      "<class 'dict'>\n",
      "{'nome': 'Marcio Cunha', 'idade': 23, 'linguage': 'Python'}\n",
      "dict_keys(['nome', 'idade', 'linguage'])\n",
      "dict_values(['Marcio Cunha', 23, 'Python'])\n",
      "dict_items([('nome', 'Marcio Cunha'), ('idade', 23), ('linguage', 'Python')])\n"
     ]
    }
   ],
   "source": [
    "# dicionarios (dict)\n",
    "\n",
    "meu_dicionario = {\n",
    "    \"nome\": \"Marcio\",\n",
    "    \"idade\": 23,\n",
    "    \"linguage\": \"Python\"\n",
    "}\n",
    "\n",
    "print(meu_dicionario)\n",
    "print(type(meu_dicionario))\n",
    "\n",
    "meu_dicionario[\"nome\"] = \"Marcio Cunha\"\n",
    "print(meu_dicionario)\n",
    "\n",
    "print(meu_dicionario.keys())\n",
    "print(meu_dicionario.values())\n",
    "print(meu_dicionario.items())"
   ]
  },
  {
   "cell_type": "code",
   "execution_count": null,
   "metadata": {},
   "outputs": [],
   "source": [
    "# conjuntos (set)\n",
    "\n",
    "meu_conjunto = {1, 2, 3, 4}"
   ]
  }
 ],
 "metadata": {
  "kernelspec": {
   "display_name": "base",
   "language": "python",
   "name": "python3"
  },
  "language_info": {
   "codemirror_mode": {
    "name": "ipython",
    "version": 3
   },
   "file_extension": ".py",
   "mimetype": "text/x-python",
   "name": "python",
   "nbconvert_exporter": "python",
   "pygments_lexer": "ipython3",
   "version": "3.10.9"
  },
  "orig_nbformat": 4
 },
 "nbformat": 4,
 "nbformat_minor": 2
}
