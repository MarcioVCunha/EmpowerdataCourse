{
 "cells": [
  {
   "attachments": {},
   "cell_type": "markdown",
   "metadata": {},
   "source": [
    "# Operadores"
   ]
  },
  {
   "cell_type": "code",
   "execution_count": 6,
   "metadata": {},
   "outputs": [
    {
     "name": "stdout",
     "output_type": "stream",
     "text": [
      "3\n",
      "5\n",
      "3.3333333333333335\n",
      "3\n",
      "1\n",
      "30\n",
      "1000\n"
     ]
    }
   ],
   "source": [
    "# Aritimeticos\n",
    "\n",
    "# soma\n",
    "print(1 + 2)\n",
    "\n",
    "# subitracao\n",
    "print(10 - 5)\n",
    "\n",
    "# divisao\n",
    "print(10 / 3)\n",
    "\n",
    "# divisao (parte inteira)\n",
    "print(10 // 3)\n",
    "\n",
    "# divisao modulo (resto de uma divisao)\n",
    "print(10 % 3)\n",
    "\n",
    "# multiplicacao\n",
    "print(10 * 3)\n",
    "\n",
    "# exponenciacao\n",
    "print(10 ** 3)"
   ]
  },
  {
   "cell_type": "code",
   "execution_count": 11,
   "metadata": {},
   "outputs": [
    {
     "name": "stdout",
     "output_type": "stream",
     "text": [
      "False\n",
      "True\n",
      "False\n",
      "True\n",
      "False\n",
      "True\n"
     ]
    }
   ],
   "source": [
    "# relacionais\n",
    "\n",
    "# igualdade\n",
    "print(10 == 30)\n",
    "\n",
    "# maior/menor que\n",
    "print(10 > 5)\n",
    "print(10 < 5)\n",
    "\n",
    "# maior/menor ou igual que\n",
    "print(10 >= 5)\n",
    "print(10 <= 5)\n",
    "\n",
    "# diferente\n",
    "print(10 != 5)"
   ]
  },
  {
   "cell_type": "code",
   "execution_count": 13,
   "metadata": {},
   "outputs": [
    {
     "name": "stdout",
     "output_type": "stream",
     "text": [
      "False\n",
      "True\n",
      "True\n"
     ]
    }
   ],
   "source": [
    "# logicos\n",
    "\n",
    "# and\n",
    "print(True and False)\n",
    "\n",
    "# or\n",
    "print(True or False)\n",
    "\n",
    "# not\n",
    "print(not False)"
   ]
  },
  {
   "attachments": {},
   "cell_type": "markdown",
   "metadata": {},
   "source": [
    "# Operados podem ser:"
   ]
  },
  {
   "cell_type": "code",
   "execution_count": 17,
   "metadata": {},
   "outputs": [
    {
     "name": "stdout",
     "output_type": "stream",
     "text": [
      "False\n",
      "True\n",
      "True\n",
      "9\n",
      "Minha roupa está seca\n"
     ]
    }
   ],
   "source": [
    "# unario (somente 1 operando)\n",
    "print(not True)\n",
    "\n",
    "# binario (2 operandos)\n",
    "print(10 > 4)\n",
    "print(True or False)\n",
    "print(5 + 4)\n",
    "\n",
    "# ternarios (3 operandos)\n",
    "chovendo = False\n",
    "frase = \"Minha roupa está \" + (\"molhada\" if chovendo else \"seca\")\n",
    "\n",
    "print(frase)"
   ]
  }
 ],
 "metadata": {
  "kernelspec": {
   "display_name": "base",
   "language": "python",
   "name": "python3"
  },
  "language_info": {
   "codemirror_mode": {
    "name": "ipython",
    "version": 3
   },
   "file_extension": ".py",
   "mimetype": "text/x-python",
   "name": "python",
   "nbconvert_exporter": "python",
   "pygments_lexer": "ipython3",
   "version": "3.10.9"
  },
  "orig_nbformat": 4
 },
 "nbformat": 4,
 "nbformat_minor": 2
}
