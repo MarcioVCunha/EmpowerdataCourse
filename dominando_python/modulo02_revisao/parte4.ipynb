{
 "cells": [
  {
   "attachments": {},
   "cell_type": "markdown",
   "metadata": {},
   "source": [
    "# Estruturas de controle"
   ]
  },
  {
   "cell_type": "code",
   "execution_count": 6,
   "metadata": {},
   "outputs": [
    {
     "name": "stdout",
     "output_type": "stream",
     "text": [
      "0\n",
      "1\n",
      "2\n",
      "3\n",
      "4\n",
      "5\n",
      "6\n",
      "7\n",
      "8\n",
      "9\n"
     ]
    }
   ],
   "source": [
    "# while\n",
    "\n",
    "contador = 0\n",
    "\n",
    "while contador < 10:\n",
    "    print(contador)\n",
    "    contador += 1"
   ]
  },
  {
   "cell_type": "code",
   "execution_count": 12,
   "metadata": {},
   "outputs": [
    {
     "name": "stdout",
     "output_type": "stream",
     "text": [
      "1\n",
      "2\n",
      "3\n",
      "4\n",
      "5\n",
      "range = 0\n",
      "range = 1\n",
      "range = 2\n",
      "range = 3\n",
      "range = 4\n",
      "range = 5\n",
      "range = 6\n",
      "range = 7\n",
      "range = 8\n",
      "range = 9\n"
     ]
    }
   ],
   "source": [
    "# for\n",
    "\n",
    "lista = [1, 2, 3, 4, 5]\n",
    "for numero in lista:\n",
    "    print(numero)\n",
    "\n",
    "for numero in range(10):\n",
    "    print(f\"range = {numero}\")"
   ]
  },
  {
   "cell_type": "code",
   "execution_count": 17,
   "metadata": {},
   "outputs": [
    {
     "name": "stdout",
     "output_type": "stream",
     "text": [
      "Estou com a roupa molhada\n"
     ]
    }
   ],
   "source": [
    "# if\n",
    "\n",
    "chovendo = True\n",
    "\n",
    "if(chovendo):\n",
    "    print(\"Estou com a roupa molhada\")\n",
    "else:\n",
    "    print(\"Estou com a roupa seca\")"
   ]
  },
  {
   "cell_type": "code",
   "execution_count": 20,
   "metadata": {},
   "outputs": [
    {
     "name": "stdout",
     "output_type": "stream",
     "text": [
      "Código da funcao\n",
      "3\n",
      "5\n"
     ]
    }
   ],
   "source": [
    "# funcoes\n",
    "\n",
    "def minha_funcao():\n",
    "    print('Código da funcao')\n",
    "\n",
    "minha_funcao()\n",
    "\n",
    "def minha_segunda_funcao(numero = 3):\n",
    "    print(numero)\n",
    "\n",
    "minha_segunda_funcao()\n",
    "minha_segunda_funcao(5)"
   ]
  }
 ],
 "metadata": {
  "kernelspec": {
   "display_name": "base",
   "language": "python",
   "name": "python3"
  },
  "language_info": {
   "codemirror_mode": {
    "name": "ipython",
    "version": 3
   },
   "file_extension": ".py",
   "mimetype": "text/x-python",
   "name": "python",
   "nbconvert_exporter": "python",
   "pygments_lexer": "ipython3",
   "version": "3.10.9"
  },
  "orig_nbformat": 4
 },
 "nbformat": 4,
 "nbformat_minor": 2
}
