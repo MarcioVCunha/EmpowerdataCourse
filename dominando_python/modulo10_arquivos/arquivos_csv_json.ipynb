{
 "cells": [
  {
   "cell_type": "markdown",
   "metadata": {},
   "source": [
    "# Trabalhando com arquivos CSV\n",
    "\n",
    "- CSV - Comma Separated Values (valores separados por virgulas)\n",
    "- Podemos utilizar o CSV para trabalhar com esse tipo de arquivo\n",
    "    - Retorna um objeto_csv.reader"
   ]
  },
  {
   "cell_type": "code",
   "execution_count": 3,
   "metadata": {},
   "outputs": [
    {
     "name": "stdout",
     "output_type": "stream",
     "text": [
      "josé,30\n",
      "gabriel,25\n",
      "lucas,15\n",
      "ana,45\n",
      "maria,60\n",
      "victor,70\n"
     ]
    }
   ],
   "source": [
    "with open(\"csv.csv\") as arquivo:\n",
    "    print(arquivo.read())"
   ]
  },
  {
   "cell_type": "code",
   "execution_count": 14,
   "metadata": {},
   "outputs": [
    {
     "name": "stdout",
     "output_type": "stream",
     "text": [
      "<class '_csv.reader'>\n",
      "<_csv.reader object at 0x000001C4993C7D00>\n",
      "Nome: josé - Idade: 30\n",
      "Nome: gabriel - Idade: 25\n",
      "Nome: lucas - Idade: 15\n",
      "Nome: ana - Idade: 45\n",
      "Nome: maria - Idade: 60\n",
      "Nome: victor - Idade: 70\n"
     ]
    }
   ],
   "source": [
    "import csv\n",
    "\n",
    "with open(\"csv.csv\") as arquivo:\n",
    "    arquivo_csv = csv.reader(arquivo, delimiter=\";\") # Delimitador por padrão é ,\n",
    "    print(type(arquivo_csv))\n",
    "    print(arquivo_csv)\n",
    "    for dado in arquivo_csv:\n",
    "        print(f\"Nome: {dado[0]} - Idade: {dado[1]}\")"
   ]
  },
  {
   "cell_type": "markdown",
   "metadata": {},
   "source": [
    "# Trabalhando com arquivos JSON\n",
    "\n",
    "- JSON - JavaScript Object Notation\n",
    "- Formato padrão de troca de mensagens entre sistemas web\n",
    "- Muito utilizado em bancos de dados não relacionais\n",
    "- Podemos utlizar o módulo JSON para trabalhar com esse tipo de arquivo\n",
    "    - Retorna uma lista"
   ]
  },
  {
   "cell_type": "code",
   "execution_count": 15,
   "metadata": {},
   "outputs": [
    {
     "name": "stdout",
     "output_type": "stream",
     "text": [
      "[\n",
      "    {\n",
      "        \"nome\": \"Marcio\",\n",
      "        \"idade\": 24\n",
      "    },\n",
      "    {\n",
      "        \"nome\": \"João\",\n",
      "        \"idade\": 21\n",
      "    },\n",
      "    {\n",
      "        \"nome\": \"Gabriel\",\n",
      "        \"idade\": 45\n",
      "    }\n",
      "]\n",
      "\n"
     ]
    }
   ],
   "source": [
    "with open(\"json.json\", \"r\") as arquivo:\n",
    "    print(arquivo.read())"
   ]
  },
  {
   "cell_type": "code",
   "execution_count": 18,
   "metadata": {},
   "outputs": [
    {
     "name": "stdout",
     "output_type": "stream",
     "text": [
      "<class 'list'>\n",
      "[{'nome': 'Marcio', 'idade': 24}, {'nome': 'João', 'idade': 21}, {'nome': 'Gabriel', 'idade': 45}]\n",
      "<class 'dict'>\n",
      "Nome: Marcio - Idade: 24\n",
      "Nome: João - Idade: 21\n",
      "Nome: Gabriel - Idade: 45\n"
     ]
    }
   ],
   "source": [
    "import json\n",
    "\n",
    "with open(\"json.json\", \"r\") as arquivo:\n",
    "    arquivo_json = json.load(arquivo)\n",
    "    print(type(arquivo_json))\n",
    "    print(arquivo_json)\n",
    "    print(type(arquivo_json[0]))\n",
    "    for dado in arquivo_json:\n",
    "        print(f\"Nome: {dado['nome']} - Idade: {dado['idade']}\")\n"
   ]
  },
  {
   "cell_type": "code",
   "execution_count": null,
   "metadata": {},
   "outputs": [],
   "source": []
  }
 ],
 "metadata": {
  "kernelspec": {
   "display_name": "base",
   "language": "python",
   "name": "python3"
  },
  "language_info": {
   "codemirror_mode": {
    "name": "ipython",
    "version": 3
   },
   "file_extension": ".py",
   "mimetype": "text/x-python",
   "name": "python",
   "nbconvert_exporter": "python",
   "pygments_lexer": "ipython3",
   "version": "3.10.9"
  },
  "orig_nbformat": 4
 },
 "nbformat": 4,
 "nbformat_minor": 2
}
