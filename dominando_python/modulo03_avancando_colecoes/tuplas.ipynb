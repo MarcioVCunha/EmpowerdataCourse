{
 "cells": [
  {
   "attachments": {},
   "cell_type": "markdown",
   "metadata": {},
   "source": [
    "# Copiando tuplas\n",
    "Como o python trabalha com tuplas em memória"
   ]
  },
  {
   "cell_type": "code",
   "execution_count": 1,
   "metadata": {},
   "outputs": [
    {
     "name": "stdout",
     "output_type": "stream",
     "text": [
      "empowerdata\n",
      "(1, 2, 3, 4)\n"
     ]
    }
   ],
   "source": [
    "tupla_a = (1, 2, 3, 4)\n",
    "tupla_b = tupla_a\n",
    "\n",
    "tupla_a = \"empowerdata\"\n",
    "\n",
    "print(tupla_a)\n",
    "print(tupla_b)"
   ]
  },
  {
   "attachments": {},
   "cell_type": "markdown",
   "metadata": {},
   "source": [
    "# Funcao tuple"
   ]
  },
  {
   "cell_type": "code",
   "execution_count": 7,
   "metadata": {},
   "outputs": [
    {
     "name": "stdout",
     "output_type": "stream",
     "text": [
      "('M', 'a', 'r', 'c', 'i', 'o')\n",
      "()\n",
      "(1, 2, 3, 'Python')\n"
     ]
    }
   ],
   "source": [
    "tupla = tuple('Marcio')\n",
    "print(tupla)\n",
    "\n",
    "tupla = tuple()\n",
    "print(tupla)\n",
    "\n",
    "lista = [1, 2, 3, 'Python']\n",
    "tupla = tuple(lista)\n",
    "print(tupla)"
   ]
  },
  {
   "attachments": {},
   "cell_type": "markdown",
   "metadata": {},
   "source": [
    "# Métodos importantes\n",
    "index() e count()"
   ]
  },
  {
   "cell_type": "code",
   "execution_count": 15,
   "metadata": {},
   "outputs": [
    {
     "name": "stdout",
     "output_type": "stream",
     "text": [
      "3\n",
      "2\n",
      "1\n"
     ]
    }
   ],
   "source": [
    "tupla = ('python', 'c', 'java', 'php', 'go lang')\n",
    "print(tupla.index('php'))\n",
    "\n",
    "tupla = (1, 1, 1, 2, 2, 3)\n",
    "print(tupla.count(2))\n",
    "print(tupla.count(3))"
   ]
  },
  {
   "attachments": {},
   "cell_type": "markdown",
   "metadata": {},
   "source": [
    "# Aplicando funcoes internas em tuplas\n",
    "len(), min(), max() e sum()"
   ]
  },
  {
   "cell_type": "code",
   "execution_count": 27,
   "metadata": {},
   "outputs": [
    {
     "name": "stdout",
     "output_type": "stream",
     "text": [
      "7\n",
      "-5\n",
      "1003\n",
      "1\n"
     ]
    }
   ],
   "source": [
    "# len -> tamanho da tupla\n",
    "tupla = (1, 1, 1, 2, 2, -5, 3)\n",
    "print(len(tupla))\n",
    "\n",
    "# min -> retorna o menor valor (só funciona se tiver apenas numeros)\n",
    "tupla = (1, 1, 1, 2, 2, 1003, -5, 3)\n",
    "print(min(tupla))\n",
    "\n",
    "# max -> retorna o maior valor (só funciona se tiver apenas numeros)\n",
    "tupla = (1, 1, 1, 2, 2, 1003, -5, 3)\n",
    "print(max(tupla))\n",
    "\n",
    "# sum -> Soma os valores (só funciona se tiver apenas numeros)\n",
    "tupla = (1, 2, 1, -3)\n",
    "print(sum(tupla))"
   ]
  },
  {
   "attachments": {},
   "cell_type": "markdown",
   "metadata": {},
   "source": [
    "# Tuplas com um unico elemento"
   ]
  },
  {
   "cell_type": "code",
   "execution_count": 25,
   "metadata": {},
   "outputs": [
    {
     "name": "stdout",
     "output_type": "stream",
     "text": [
      "<class 'tuple'>\n",
      "<class 'tuple'>\n",
      "<class 'int'>\n",
      "<class 'str'>\n",
      "<class 'tuple'>\n",
      "<class 'tuple'>\n"
     ]
    }
   ],
   "source": [
    "tupla = (1, 2, 3, 'python')\n",
    "print(type(tupla))\n",
    "\n",
    "tupla = 1, 2, 3, 'python'\n",
    "print(type(tupla))\n",
    "\n",
    "tupla = (3)\n",
    "print(type(tupla))\n",
    "\n",
    "tupla = ('Marcio')\n",
    "print(type(tupla))\n",
    "\n",
    "tupla = (3,)\n",
    "print(type(tupla))\n",
    "\n",
    "tupla = 'Marcio',\n",
    "print(type(tupla))"
   ]
  },
  {
   "cell_type": "code",
   "execution_count": 26,
   "metadata": {},
   "outputs": [
    {
     "name": "stdout",
     "output_type": "stream",
     "text": [
      "(1, 2, 3)\n",
      "1\n",
      "2\n",
      "3\n"
     ]
    }
   ],
   "source": [
    "# !!! CUIDADO !!!\n",
    "\n",
    "tupla = 1, 2, 3\n",
    "print(tupla)\n",
    "\n",
    "numero_1, numero_2, numero_3 = 1, 2, 3\n",
    "print(numero_1)\n",
    "print(numero_2)\n",
    "print(numero_3)"
   ]
  },
  {
   "attachments": {},
   "cell_type": "markdown",
   "metadata": {},
   "source": [
    "# Slicing"
   ]
  },
  {
   "cell_type": "code",
   "execution_count": 38,
   "metadata": {},
   "outputs": [
    {
     "name": "stdout",
     "output_type": "stream",
     "text": [
      "('java', 'php', 'go lang')\n",
      "('python', 'c', 'java', 'php', 'go lang')\n",
      "('python', 'java', 'go lang')\n",
      "('go lang', 'php', 'java', 'c', 'python')\n"
     ]
    }
   ],
   "source": [
    "tupla = ('python', 'c', 'java', 'php', 'go lang')\n",
    "\n",
    "print(tupla[2:5])\n",
    "print(tupla[:])\n",
    "print(tupla[::2])\n",
    "print(tupla[::-1])"
   ]
  },
  {
   "attachments": {},
   "cell_type": "markdown",
   "metadata": {},
   "source": [
    "# Desempacotamento de tuplas"
   ]
  },
  {
   "cell_type": "code",
   "execution_count": 41,
   "metadata": {},
   "outputs": [
    {
     "name": "stdout",
     "output_type": "stream",
     "text": [
      "python\n",
      "java\n",
      "javascript\n"
     ]
    }
   ],
   "source": [
    "tupla = ('python', 'java', 'javascript')\n",
    "\n",
    "ling_1, ling_2, ling_3 = tupla # numero de elementos precisa ser igual ao numero de variaveis\n",
    "print(ling_1)\n",
    "print(ling_2)\n",
    "print(ling_3)"
   ]
  },
  {
   "attachments": {},
   "cell_type": "markdown",
   "metadata": {},
   "source": [
    "# Trabalhando com tuplas\n",
    "\n",
    "Cria uma função que recebe dois números e retorne o resultado das seguintes operações\n",
    "\n",
    "<li>soma\n",
    "<li>multiplicação\n",
    "<li>subtração\n",
    "<li>divisão"
   ]
  },
  {
   "cell_type": "code",
   "execution_count": 44,
   "metadata": {},
   "outputs": [],
   "source": [
    "def operacoes(numero_1, numero_2):\n",
    "    soma = numero_1 + numero_2\n",
    "    multiplicacao = numero_1 * numero_2\n",
    "\n",
    "    if(numero_1 >= numero_2):\n",
    "        subtracao = numero_1 - numero_2\n",
    "        divisao = numero_1 / numero_2\n",
    "    else:\n",
    "        subtracao = numero_2 - numero_1\n",
    "        divisao = numero_2 / numero_1\n",
    "    \n",
    "    return (soma, multiplicacao, subtracao, divisao)"
   ]
  },
  {
   "cell_type": "code",
   "execution_count": 50,
   "metadata": {},
   "outputs": [
    {
     "name": "stdout",
     "output_type": "stream",
     "text": [
      "23\n",
      "60\n",
      "17\n",
      "6.666666666666667\n"
     ]
    }
   ],
   "source": [
    "soma, multiplicacao, subtracao, divisao = operacoes(3, 20)\n",
    "print(soma)\n",
    "print(multiplicacao)\n",
    "print(subtracao)\n",
    "print(divisao)"
   ]
  }
 ],
 "metadata": {
  "kernelspec": {
   "display_name": "base",
   "language": "python",
   "name": "python3"
  },
  "language_info": {
   "codemirror_mode": {
    "name": "ipython",
    "version": 3
   },
   "file_extension": ".py",
   "mimetype": "text/x-python",
   "name": "python",
   "nbconvert_exporter": "python",
   "pygments_lexer": "ipython3",
   "version": "3.10.9"
  },
  "orig_nbformat": 4
 },
 "nbformat": 4,
 "nbformat_minor": 2
}
