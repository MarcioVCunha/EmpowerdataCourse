{
 "cells": [
  {
   "attachments": {},
   "cell_type": "markdown",
   "metadata": {},
   "source": [
    "# Copiando listas\n",
    "Vamos entender como o python trabalha com listas em memória"
   ]
  },
  {
   "cell_type": "code",
   "execution_count": 72,
   "metadata": {},
   "outputs": [
    {
     "name": "stdout",
     "output_type": "stream",
     "text": [
      "[1, 2, 3, 4, 100]\n"
     ]
    }
   ],
   "source": [
    "# shallow copy\n",
    "\n",
    "lista = [1, 2, 3, 4]\n",
    "lista2 = lista\n",
    "lista.append(100)\n",
    "\n",
    "print(lista2)"
   ]
  },
  {
   "cell_type": "code",
   "execution_count": 73,
   "metadata": {},
   "outputs": [
    {
     "name": "stdout",
     "output_type": "stream",
     "text": [
      "[1, 2, 3, 4]\n"
     ]
    }
   ],
   "source": [
    "# deep copy\n",
    "\n",
    "lista = [1, 2, 3, 4]\n",
    "lista2 = lista.copy()\n",
    "lista.append(100)\n",
    "\n",
    "print(lista2)"
   ]
  },
  {
   "attachments": {},
   "cell_type": "markdown",
   "metadata": {},
   "source": [
    "# Funcao list()"
   ]
  },
  {
   "cell_type": "code",
   "execution_count": 74,
   "metadata": {},
   "outputs": [
    {
     "name": "stdout",
     "output_type": "stream",
     "text": [
      "<class 'list'>\n",
      "['V', 'i', 'n', 'i', 'c', 'i', 'u', 's']\n"
     ]
    }
   ],
   "source": [
    "lista_string = list('Vinicius')\n",
    "\n",
    "print(type(lista_string))\n",
    "print(lista_string)"
   ]
  },
  {
   "cell_type": "code",
   "execution_count": 75,
   "metadata": {},
   "outputs": [
    {
     "name": "stdout",
     "output_type": "stream",
     "text": [
      "<class 'tuple'>\n",
      "(1, 2, 3, 4, 5)\n",
      "<class 'list'>\n",
      "[1, 2, 3, 4, 5]\n"
     ]
    }
   ],
   "source": [
    "dados = (1, 2, 3, 4, 5)\n",
    "print(type(dados))\n",
    "print(dados)\n",
    "\n",
    "dados_lista = list(dados)\n",
    "print(type(dados_lista))\n",
    "print(dados_lista)"
   ]
  },
  {
   "attachments": {},
   "cell_type": "markdown",
   "metadata": {},
   "source": [
    "# Criando listas vazias"
   ]
  },
  {
   "cell_type": "code",
   "execution_count": 76,
   "metadata": {},
   "outputs": [
    {
     "name": "stdout",
     "output_type": "stream",
     "text": [
      "[]\n",
      "<class 'list'>\n",
      "[]\n",
      "<class 'list'>\n"
     ]
    }
   ],
   "source": [
    "lista_vazia = list()\n",
    "print(lista_vazia)\n",
    "print(type(lista_vazia))\n",
    "\n",
    "lista_vazia = []\n",
    "print(lista_vazia)\n",
    "print(type(lista_vazia))"
   ]
  },
  {
   "attachments": {},
   "cell_type": "markdown",
   "metadata": {},
   "source": [
    "# Metodos imporantes\n",
    "sort(), reverse(), index() e count()"
   ]
  },
  {
   "cell_type": "code",
   "execution_count": 77,
   "metadata": {},
   "outputs": [
    {
     "name": "stdout",
     "output_type": "stream",
     "text": [
      "4\n",
      "2\n",
      "0\n"
     ]
    }
   ],
   "source": [
    "# count()\n",
    "lista = [1, 1, 1, 1, 2, 2, 2, 3, 3, 3, 3, 3, 3, 4, 4]\n",
    "\n",
    "print(lista.count(1))\n",
    "print(lista.count(4))\n",
    "print(lista.count(10))"
   ]
  },
  {
   "cell_type": "code",
   "execution_count": 78,
   "metadata": {},
   "outputs": [
    {
     "name": "stdout",
     "output_type": "stream",
     "text": [
      "3\n",
      "1\n",
      "php\n"
     ]
    }
   ],
   "source": [
    "# index()\n",
    "\n",
    "lista = ['python', 'java', 'c', 'php', 'go lang']\n",
    "print(lista.index('php'))\n",
    "print(lista.index('java'))\n",
    "\n",
    "# print(lista.index('Python')) retornará erro\n",
    "\n",
    "print(lista[lista.index('php')])"
   ]
  },
  {
   "cell_type": "code",
   "execution_count": 79,
   "metadata": {},
   "outputs": [
    {
     "name": "stdout",
     "output_type": "stream",
     "text": [
      "['c', 'go lang', 'java', 'php', 'python']\n",
      "['python', 'php', 'java', 'go lang', 'c']\n",
      "[7, 10, 12, 45, 90, 101, 134]\n"
     ]
    }
   ],
   "source": [
    "# sort()\n",
    "\n",
    "lista.sort()\n",
    "print(lista)\n",
    "\n",
    "lista = ['python', 'java', 'c', 'php', 'go lang']\n",
    "lista.sort(reverse=True)\n",
    "print(lista)\n",
    "\n",
    "numeros = [10, 101, 134, 45, 12, 7, 90]\n",
    "numeros.sort()\n",
    "print(numeros)"
   ]
  },
  {
   "cell_type": "code",
   "execution_count": 80,
   "metadata": {},
   "outputs": [
    {
     "name": "stdout",
     "output_type": "stream",
     "text": [
      "['go lang', 'php', 'c', 'java', 'python']\n"
     ]
    }
   ],
   "source": [
    "# reverse()\n",
    "\n",
    "lista = ['python', 'java', 'c', 'php', 'go lang']\n",
    "lista.reverse()\n",
    "print(lista)"
   ]
  },
  {
   "attachments": {},
   "cell_type": "markdown",
   "metadata": {},
   "source": [
    "# Aplicando funcoes internas em listas"
   ]
  },
  {
   "cell_type": "code",
   "execution_count": 81,
   "metadata": {},
   "outputs": [
    {
     "name": "stdout",
     "output_type": "stream",
     "text": [
      "6\n"
     ]
    }
   ],
   "source": [
    "# len - retorna o tamanho de uma lista\n",
    "\n",
    "lista = [1, 2, 3, 4, 'python', 'empowerdata']\n",
    "print(len(lista))"
   ]
  },
  {
   "cell_type": "code",
   "execution_count": 82,
   "metadata": {},
   "outputs": [
    {
     "name": "stdout",
     "output_type": "stream",
     "text": [
      "15\n"
     ]
    }
   ],
   "source": [
    "# sum - soma (lista tem que ter apenas números)\n",
    "\n",
    "lista = [1, 2, 3, 4, 5]\n",
    "print(sum(lista))"
   ]
  },
  {
   "cell_type": "code",
   "execution_count": 83,
   "metadata": {},
   "outputs": [
    {
     "data": {
      "text/plain": [
       "1"
      ]
     },
     "execution_count": 83,
     "metadata": {},
     "output_type": "execute_result"
    }
   ],
   "source": [
    "# min - menor elemento (lista tem que ter apenas números)\n",
    "\n",
    "min(lista)"
   ]
  },
  {
   "cell_type": "code",
   "execution_count": 84,
   "metadata": {},
   "outputs": [
    {
     "data": {
      "text/plain": [
       "5"
      ]
     },
     "execution_count": 84,
     "metadata": {},
     "output_type": "execute_result"
    }
   ],
   "source": [
    "# max - maior elemento (lista tem que ter apenas números)\n",
    "\n",
    "max(lista)"
   ]
  },
  {
   "attachments": {},
   "cell_type": "markdown",
   "metadata": {},
   "source": [
    "# Slicing\n",
    "\n",
    "Notacao: iteravel[inicio:fim]"
   ]
  },
  {
   "cell_type": "code",
   "execution_count": 85,
   "metadata": {},
   "outputs": [
    {
     "name": "stdout",
     "output_type": "stream",
     "text": [
      "['python', 'java', 'c', 'php']\n",
      "['python', 'java', 'c', 'php', 'go lang']\n",
      "['python', 'java', 'c', 'php', 'go lang']\n",
      "['python', 'c', 'go lang']\n",
      "['python', 'go lang']\n"
     ]
    }
   ],
   "source": [
    "lista = ['python', 'java', 'c', 'php', 'go lang']\n",
    "\n",
    "print(lista[0:4])\n",
    "print(lista[0:])\n",
    "print(lista[:])\n",
    "print(lista[::2])\n",
    "\n",
    "del lista[1:4]\n",
    "\n",
    "print(lista)"
   ]
  },
  {
   "attachments": {},
   "cell_type": "markdown",
   "metadata": {},
   "source": [
    "# Trabalhando com listas - exemplo"
   ]
  },
  {
   "attachments": {},
   "cell_type": "markdown",
   "metadata": {},
   "source": [
    "### Dada a lista abaixo, separe apenas os números pares em uma lista chamada pares"
   ]
  },
  {
   "cell_type": "code",
   "execution_count": 86,
   "metadata": {},
   "outputs": [],
   "source": [
    "numeros = list(range(0, 101))"
   ]
  },
  {
   "cell_type": "code",
   "execution_count": 94,
   "metadata": {},
   "outputs": [],
   "source": [
    "def eh_par(numero):\n",
    "    if(not(numero % 2)):\n",
    "        return True\n",
    "    \n",
    "    return False"
   ]
  },
  {
   "cell_type": "code",
   "execution_count": 95,
   "metadata": {},
   "outputs": [
    {
     "name": "stdout",
     "output_type": "stream",
     "text": [
      "[0, 2, 4, 6, 8, 10, 12, 14, 16, 18, 20, 22, 24, 26, 28, 30, 32, 34, 36, 38, 40, 42, 44, 46, 48, 50, 52, 54, 56, 58, 60, 62, 64, 66, 68, 70, 72, 74, 76, 78, 80, 82, 84, 86, 88, 90, 92, 94, 96, 98, 100]\n"
     ]
    }
   ],
   "source": [
    "pares = list()\n",
    "\n",
    "for numero in numeros:\n",
    "    if(eh_par(numero)):\n",
    "        pares.append(numero)\n",
    "\n",
    "print(pares)"
   ]
  },
  {
   "cell_type": "code",
   "execution_count": 96,
   "metadata": {},
   "outputs": [
    {
     "name": "stdout",
     "output_type": "stream",
     "text": [
      "[0, 2, 4, 6, 8, 10, 12, 14, 16, 18, 20, 22, 24, 26, 28, 30, 32, 34, 36, 38, 40, 42, 44, 46, 48, 50, 52, 54, 56, 58, 60, 62, 64, 66, 68, 70, 72, 74, 76, 78, 80, 82, 84, 86, 88, 90, 92, 94, 96, 98, 100]\n"
     ]
    }
   ],
   "source": [
    "pares = numeros[::2]\n",
    "\n",
    "print(pares)"
   ]
  },
  {
   "cell_type": "code",
   "execution_count": 97,
   "metadata": {},
   "outputs": [
    {
     "name": "stdout",
     "output_type": "stream",
     "text": [
      "[0, 2, 4, 6, 8, 10, 12, 14, 16, 18, 20, 22, 24, 26, 28, 30, 32, 34, 36, 38, 40, 42, 44, 46, 48, 50, 52, 54, 56, 58, 60, 62, 64, 66, 68, 70, 72, 74, 76, 78, 80, 82, 84, 86, 88, 90, 92, 94, 96, 98, 100]\n"
     ]
    }
   ],
   "source": [
    "pares = list(filter(eh_par, numeros))\n",
    "\n",
    "print(pares)"
   ]
  }
 ],
 "metadata": {
  "kernelspec": {
   "display_name": "base",
   "language": "python",
   "name": "python3"
  },
  "language_info": {
   "codemirror_mode": {
    "name": "ipython",
    "version": 3
   },
   "file_extension": ".py",
   "mimetype": "text/x-python",
   "name": "python",
   "nbconvert_exporter": "python",
   "pygments_lexer": "ipython3",
   "version": "3.10.9"
  },
  "orig_nbformat": 4
 },
 "nbformat": 4,
 "nbformat_minor": 2
}
