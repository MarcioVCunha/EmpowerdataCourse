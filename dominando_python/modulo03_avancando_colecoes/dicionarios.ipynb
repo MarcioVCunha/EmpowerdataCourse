{
 "cells": [
  {
   "attachments": {},
   "cell_type": "markdown",
   "metadata": {},
   "source": [
    "# Copiando Dicionarios\n",
    "Como o python trabalha com dicionarios em memória"
   ]
  },
  {
   "cell_type": "code",
   "execution_count": 5,
   "metadata": {},
   "outputs": [
    {
     "name": "stdout",
     "output_type": "stream",
     "text": [
      "{'nome': 'Luiare', 'idade': 23}\n",
      "{'nome': 'Luiare', 'idade': 23}\n",
      "{'nome': 'Marcio', 'idade': 23}\n"
     ]
    }
   ],
   "source": [
    "# Shallow copy\n",
    "dict_a = {\n",
    "    'nome': 'Marcio',\n",
    "    'idade': 23\n",
    "}\n",
    "\n",
    "dict_b = dict_a\n",
    "\n",
    "# Deep copy\n",
    "dict_c = dict_a.copy()\n",
    "\n",
    "dict_a.update({'nome': 'Luiare'})\n",
    "\n",
    "print(dict_a)\n",
    "print(dict_b)\n",
    "print(dict_c)"
   ]
  },
  {
   "attachments": {},
   "cell_type": "markdown",
   "metadata": {},
   "source": [
    "# Função dict"
   ]
  },
  {
   "cell_type": "code",
   "execution_count": 6,
   "metadata": {},
   "outputs": [
    {
     "name": "stdout",
     "output_type": "stream",
     "text": [
      "<class 'dict'>\n",
      "{'nome': 'Empowerdata', 'Linguagem': 'Python', 'status': True}\n",
      "{'nome': 'Empowerdata', 'linguagem': 'python'}\n",
      "{}\n",
      "{}\n"
     ]
    }
   ],
   "source": [
    "dados = dict(nome='Empowerdata', Linguagem='Python', status=True)\n",
    "print(type(dados))\n",
    "print(dados)\n",
    "\n",
    "lista = [('nome', 'Empowerdata'), ['linguagem', 'python']]\n",
    "print(dict(lista))\n",
    "\n",
    "# Criando um dicionário vazio\n",
    "print(dict())\n",
    "dados = {}\n",
    "print(dados)"
   ]
  },
  {
   "attachments": {},
   "cell_type": "markdown",
   "metadata": {},
   "source": [
    "# Função fromkeys()"
   ]
  },
  {
   "cell_type": "code",
   "execution_count": 7,
   "metadata": {},
   "outputs": [
    {
     "name": "stdout",
     "output_type": "stream",
     "text": [
      "{'nome': [], 'linguagem': [], 'status': []}\n",
      "{'nome': ['Empowerdata', 'Empowerdata', True], 'linguagem': ['Empowerdata', 'Empowerdata', True], 'status': ['Empowerdata', 'Empowerdata', True]}\n"
     ]
    }
   ],
   "source": [
    "dados = {}.fromkeys(['nome', 'linguagem', 'status'], [])\n",
    "print(dados)\n",
    "\n",
    "dados = {}.fromkeys(['nome', 'linguagem', 'status'], ['Empowerdata', 'Empowerdata', True])\n",
    "print(dados)"
   ]
  },
  {
   "attachments": {},
   "cell_type": "markdown",
   "metadata": {},
   "source": [
    "# Métodos importantes\n",
    "get(), update()"
   ]
  },
  {
   "cell_type": "code",
   "execution_count": 8,
   "metadata": {},
   "outputs": [
    {
     "name": "stdout",
     "output_type": "stream",
     "text": [
      "Empowerdata\n",
      "None\n",
      "True\n",
      "False\n"
     ]
    }
   ],
   "source": [
    "# get\n",
    "dados = {'nome': 'Empowerdata', 'lingaugem': 'Python', 'status': True}\n",
    "\n",
    "print(dados.get('nome'))\n",
    "print(dados.get('none')) # se fizer dados[\"none\"] retorna erro\n",
    "\n",
    "print(bool(dados.get('nome')))\n",
    "print(bool(dados.get('none')))"
   ]
  },
  {
   "cell_type": "code",
   "execution_count": 10,
   "metadata": {},
   "outputs": [
    {
     "name": "stdout",
     "output_type": "stream",
     "text": [
      "{'nome': 'Empowerdata', 'lingaugem': 'Python', 'status': True, 'login': 'Empowerpython'}\n",
      "{'login': 'Empowerpython'}\n",
      "{'nome': 'Empowerdata', 'lingaugem': 'Python', 'status': False, 'login': 'Empowerpython'}\n",
      "{'login': 'Empowerpython', 'status': False}\n"
     ]
    }
   ],
   "source": [
    "# update\n",
    "dados = {'nome': 'Empowerdata', 'lingaugem': 'Python', 'status': True}\n",
    "dados2 = {'login': 'Empowerpython'}\n",
    "\n",
    "dados.update(dados2)\n",
    "\n",
    "print(dados)\n",
    "print(dados2)\n",
    "\n",
    "dados = {'nome': 'Empowerdata', 'lingaugem': 'Python', 'status': True}\n",
    "dados2 = {'login': 'Empowerpython', 'status': False}\n",
    "\n",
    "dados.update(dados2)\n",
    "\n",
    "print(dados)\n",
    "print(dados2)"
   ]
  },
  {
   "attachments": {},
   "cell_type": "markdown",
   "metadata": {},
   "source": [
    "# Iterações em dicionário"
   ]
  },
  {
   "cell_type": "code",
   "execution_count": 21,
   "metadata": {},
   "outputs": [
    {
     "name": "stdout",
     "output_type": "stream",
     "text": [
      "dict_keys(['nome', 'lingaugem', 'status'])\n",
      "Chave: nome, valor: Empowerdata\n",
      "Chave: lingaugem, valor: Python\n",
      "Chave: status, valor: True\n",
      "dict_values(['Empowerdata', 'Python', True])\n",
      "Valor: Empowerdata\n",
      "Valor: Python\n",
      "Valor: True\n",
      "dict_items([('nome', 'Empowerdata'), ('lingaugem', 'Python'), ('status', True)])\n",
      "Chave: nome, valor: Empowerdata\n",
      "Chave: lingaugem, valor: Python\n",
      "Chave: status, valor: True\n"
     ]
    }
   ],
   "source": [
    "# chaves --> keys()\n",
    "dados = {'nome': 'Empowerdata', 'lingaugem': 'Python', 'status': True}\n",
    "print(dados.keys())\n",
    "\n",
    "for key in dados.keys():\n",
    "    print(f'Chave: {key}, valor: {dados[key]}')\n",
    "\n",
    "# valores --> values()\n",
    "dados = {'nome': 'Empowerdata', 'lingaugem': 'Python', 'status': True}\n",
    "print(dados.values())\n",
    "\n",
    "for value in dados.values():\n",
    "    print(f'Valor: {value}')\n",
    "\n",
    "# items --> items()\n",
    "dados = {'nome': 'Empowerdata', 'lingaugem': 'Python', 'status': True}\n",
    "print(dados.items())\n",
    "\n",
    "for key, value in dados.items():\n",
    "    print(f'Chave: {key}, valor: {value}')"
   ]
  },
  {
   "attachments": {},
   "cell_type": "markdown",
   "metadata": {},
   "source": [
    "# Trabalhando com dicionários\n",
    "\n",
    "dado o dicionário abaixo, crie uma função que receba a sigla de um país e imprima o nome, a sigla e sua capital"
   ]
  },
  {
   "cell_type": "code",
   "execution_count": 22,
   "metadata": {},
   "outputs": [],
   "source": [
    "paises = {\n",
    "    'sigla': ['BR', 'EUA', 'JPN', 'CHN'],\n",
    "    'nome': ['Brasil', 'Estados Unidos', 'Japão', 'China'],\n",
    "    'capital': ['Brasilia', 'Washington', 'Tokyo', 'Pequim']\n",
    "}"
   ]
  },
  {
   "cell_type": "code",
   "execution_count": 35,
   "metadata": {},
   "outputs": [
    {
     "name": "stdout",
     "output_type": "stream",
     "text": [
      "Nome: Brasil\n",
      "Sigla: BR\n",
      "Capital: Brasilia\n"
     ]
    }
   ],
   "source": [
    "def return_country_info(code):\n",
    "    if code in paises['sigla']:\n",
    "        index = paises[\"sigla\"].index(code)\n",
    "\n",
    "        nome = paises[\"nome\"][index]\n",
    "        capital = paises[\"capital\"][index]\n",
    "\n",
    "        print(f'Nome: {nome}\\nSigla: {code}\\nCapital: {capital}')\n",
    "    else:\n",
    "        print(\"nenhuma informação encontrada\")\n",
    "\n",
    "return_country_info('BR')"
   ]
  }
 ],
 "metadata": {
  "kernelspec": {
   "display_name": "base",
   "language": "python",
   "name": "python3"
  },
  "language_info": {
   "codemirror_mode": {
    "name": "ipython",
    "version": 3
   },
   "file_extension": ".py",
   "mimetype": "text/x-python",
   "name": "python",
   "nbconvert_exporter": "python",
   "pygments_lexer": "ipython3",
   "version": "3.10.9"
  },
  "orig_nbformat": 4
 },
 "nbformat": 4,
 "nbformat_minor": 2
}
