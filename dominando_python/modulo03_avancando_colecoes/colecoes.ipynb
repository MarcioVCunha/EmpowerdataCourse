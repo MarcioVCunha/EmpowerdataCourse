{
 "cells": [
  {
   "attachments": {},
   "cell_type": "markdown",
   "metadata": {},
   "source": [
    "# Collections\n",
    "\n",
    "O módulo collections implementa estruturas de container de alta performance que são alternativas ás coleçõs Python tradicionais"
   ]
  },
  {
   "attachments": {},
   "cell_type": "markdown",
   "metadata": {},
   "source": [
    "# Collections - Counter\n",
    "\n",
    "Recebe um iterável como argumento e retorna um objeto do tipo Collections Counter, contendo as contagens de cada elemento no iterável"
   ]
  },
  {
   "cell_type": "code",
   "execution_count": 1,
   "metadata": {},
   "outputs": [
    {
     "name": "stdout",
     "output_type": "stream",
     "text": [
      "Counter({1: 4, 7: 4, 2: 3, 3: 2, 6: 2, 4: 1, 5: 1, 8: 1, 9: 1})\n",
      "<class 'collections.Counter'>\n",
      "Counter({'i': 3, 'V': 1, 'n': 1, 'c': 1, 'u': 1, 's': 1})\n",
      "Counter({'amor': 8, 'te': 5, 'porque': 5, 'não': 5, 'e': 5, 'é': 5, 'a': 5, 'amo': 4, 'de': 4, 'se': 4, 'eu': 3, 'amo.': 2, 'nem': 2, 'no': 2, 'mais': 2, 'da': 2, 'precisas': 1, 'ser': 1, 'amante,': 1, 'sempre': 1, 'sabes': 1, 'sê-lo.': 1, 'estado': 1, 'graça': 1, 'com': 1, 'paga.': 1, 'dado': 1, 'graça,': 1, 'semeado': 1, 'vento,': 1, 'na': 1, 'cachoeira,': 1, 'eclipse.': 1, 'foge': 1, 'dicionários': 1, 'regulamentos': 1, 'vários.': 1, 'bastante': 1, 'ou': 1, 'mim.': 1, 'troca,': 1, 'conjuga': 1, 'ama.': 1, 'nada,': 1, 'feliz': 1, 'forte': 1, 'em': 1, 'si': 1, 'mesmo.': 1, 'primo': 1, 'morte,': 1, 'morte': 1, 'vencedor,': 1, 'por': 1, 'que': 1, 'o': 1, 'matem': 1, '(e': 1, 'matam)': 1, 'cada': 1, 'instante': 1, 'amor.': 1})\n",
      "dict_keys(['eu', 'te', 'amo', 'porque', 'amo.', 'não', 'precisas', 'ser', 'amante,', 'e', 'nem', 'sempre', 'sabes', 'sê-lo.', 'amor', 'é', 'estado', 'de', 'graça', 'com', 'se', 'paga.', 'dado', 'graça,', 'semeado', 'no', 'vento,', 'na', 'cachoeira,', 'eclipse.', 'foge', 'a', 'dicionários', 'regulamentos', 'vários.', 'bastante', 'ou', 'mais', 'mim.', 'troca,', 'conjuga', 'ama.', 'nada,', 'feliz', 'forte', 'em', 'si', 'mesmo.', 'primo', 'da', 'morte,', 'morte', 'vencedor,', 'por', 'que', 'o', 'matem', '(e', 'matam)', 'cada', 'instante', 'amor.'])\n",
      "dict_values([3, 5, 4, 5, 2, 5, 1, 1, 1, 5, 2, 1, 1, 1, 8, 5, 1, 4, 1, 1, 4, 1, 1, 1, 1, 2, 1, 1, 1, 1, 1, 5, 1, 1, 1, 1, 1, 2, 1, 1, 1, 1, 1, 1, 1, 1, 1, 1, 1, 2, 1, 1, 1, 1, 1, 1, 1, 1, 1, 1, 1, 1])\n",
      "dict_items([('eu', 3), ('te', 5), ('amo', 4), ('porque', 5), ('amo.', 2), ('não', 5), ('precisas', 1), ('ser', 1), ('amante,', 1), ('e', 5), ('nem', 2), ('sempre', 1), ('sabes', 1), ('sê-lo.', 1), ('amor', 8), ('é', 5), ('estado', 1), ('de', 4), ('graça', 1), ('com', 1), ('se', 4), ('paga.', 1), ('dado', 1), ('graça,', 1), ('semeado', 1), ('no', 2), ('vento,', 1), ('na', 1), ('cachoeira,', 1), ('eclipse.', 1), ('foge', 1), ('a', 5), ('dicionários', 1), ('regulamentos', 1), ('vários.', 1), ('bastante', 1), ('ou', 1), ('mais', 2), ('mim.', 1), ('troca,', 1), ('conjuga', 1), ('ama.', 1), ('nada,', 1), ('feliz', 1), ('forte', 1), ('em', 1), ('si', 1), ('mesmo.', 1), ('primo', 1), ('da', 2), ('morte,', 1), ('morte', 1), ('vencedor,', 1), ('por', 1), ('que', 1), ('o', 1), ('matem', 1), ('(e', 1), ('matam)', 1), ('cada', 1), ('instante', 1), ('amor.', 1)])\n",
      "[('amor', 8), ('te', 5), ('porque', 5)]\n"
     ]
    }
   ],
   "source": [
    "from collections import Counter\n",
    "\n",
    "lista = [1, 1, 1, 1, 2, 2, 2, 3, 3, 4, 5, 6, 6, 7, 7, 7, 7, 8, 9]\n",
    "contador = Counter(lista)\n",
    "print(contador)\n",
    "print(type(contador))\n",
    "\n",
    "nome = \"Vinicius\"\n",
    "contador = Counter(nome)\n",
    "print(contador)\n",
    "\n",
    "texto = \"\"\"\n",
    "    Eu te amo porque te amo.\n",
    "    Não precisas ser amante,\n",
    "    e nem sempre sabes sê-lo.\n",
    "    Eu te amo porque te amo.\n",
    "    Amor é estado de graça\n",
    "    e com amor não se paga.\n",
    "\n",
    "    Amor é dado de graça,\n",
    "    é semeado no vento,\n",
    "    na cachoeira, no eclipse.\n",
    "    Amor foge a dicionários\n",
    "    e a regulamentos vários.\n",
    "\n",
    "    Eu te amo porque não amo\n",
    "    bastante ou de mais a mim.\n",
    "    Porque amor não se troca,\n",
    "    não se conjuga nem se ama.\n",
    "    Porque amor é amor a nada,\n",
    "    feliz e forte em si mesmo.\n",
    "\n",
    "    Amor é primo da morte,\n",
    "    e da morte vencedor,\n",
    "    por mais que o matem (e matam)\n",
    "    a cada instante de amor.\n",
    "\"\"\"\n",
    "\n",
    "contador = Counter(texto.lower().split())\n",
    "print(contador)\n",
    "print(contador.keys())\n",
    "print(contador.values())\n",
    "print(contador.items())\n",
    "print(contador.most_common(3))"
   ]
  },
  {
   "attachments": {},
   "cell_type": "markdown",
   "metadata": {},
   "source": [
    "# Collections - Default Dict\n",
    "\n",
    "O defaultdict se parece como um dicionário, exceto pelo fato de que quando você acessar uma chave que não existe, uma nova entrada no dicionário pode ser gerada automaticamente."
   ]
  },
  {
   "cell_type": "code",
   "execution_count": 1,
   "metadata": {},
   "outputs": [
    {
     "name": "stdout",
     "output_type": "stream",
     "text": [
      "defaultdict(<class 'list'>, {'marcio': ['marcio', 'marcio', 'marcio'], 'vizioli': ['vizioli'], 'cunha': ['cunha', 'cunha']})\n",
      "defaultdict(<class 'int'>, {'marcio': 3, 'vizioli': 1, 'cunha': 2})\n"
     ]
    }
   ],
   "source": [
    "from collections import defaultdict\n",
    "\n",
    "dados = defaultdict(list)\n",
    "texto = \"Marcio Marcio Marcio Vizioli Cunha Cunha\"\n",
    "\n",
    "for i in texto.lower().split():\n",
    "    dados[i].append(i)\n",
    "\n",
    "print(dados)\n",
    "\n",
    "dados = defaultdict(int)\n",
    "\n",
    "for i in texto.lower().split():\n",
    "    dados[i] += 1\n",
    "\n",
    "print(dados)"
   ]
  },
  {
   "attachments": {},
   "cell_type": "markdown",
   "metadata": {},
   "source": [
    "# Collections - Ordered Dict\n",
    "\n",
    "O OrderedDict também é muito parecido com os dicionários, exceto pelo fato deles levarem em consideração a posição na qual as entradas foram adicionadas."
   ]
  },
  {
   "cell_type": "code",
   "execution_count": 4,
   "metadata": {},
   "outputs": [
    {
     "name": "stdout",
     "output_type": "stream",
     "text": [
      "True\n",
      "False\n"
     ]
    }
   ],
   "source": [
    "from collections import OrderedDict\n",
    "\n",
    "dict_a = {'a': 1, 'b': 2}\n",
    "dict_b = {'b': 2, 'a': 1}\n",
    "print(dict_a == dict_b)\n",
    "\n",
    "odict_a = OrderedDict({'a': 1, 'b': 2})\n",
    "odict_b = OrderedDict({'b': 2, 'a': 1})\n",
    "print(odict_a == odict_b)"
   ]
  },
  {
   "attachments": {},
   "cell_type": "markdown",
   "metadata": {},
   "source": [
    "# Collections - Named Tuple\n",
    "\n",
    "O Named Tuple é um tipo de coleção que nos permite criar tuplas nas quais seus elementos podem ter um nome"
   ]
  },
  {
   "cell_type": "code",
   "execution_count": 12,
   "metadata": {},
   "outputs": [
    {
     "name": "stdout",
     "output_type": "stream",
     "text": [
      "Pessoa(nome='Maria', idade=23, peso=60)\n",
      "Pessoa(nome='José', idade=35, peso=85)\n",
      "35\n",
      "Maria\n",
      "Nome: José, idade: 35 e peso: 85\n",
      "Nome: Maria, idade: 23 e peso: 60\n"
     ]
    }
   ],
   "source": [
    "from collections import namedtuple\n",
    "\n",
    "Pessoa = namedtuple('Pessoa', ['nome', 'idade', 'peso'])\n",
    "\n",
    "maria = Pessoa(\"Maria\", 23, 60)\n",
    "print(maria)\n",
    "\n",
    "jose = Pessoa(\"José\", 35, 85)\n",
    "print(jose)\n",
    "\n",
    "print(jose.idade)\n",
    "print(maria.nome)\n",
    "\n",
    "for pessoa in [jose, maria]:\n",
    "    print(f'Nome: {pessoa.nome}, idade: {pessoa.idade} e peso: {pessoa.peso}')"
   ]
  },
  {
   "attachments": {},
   "cell_type": "markdown",
   "metadata": {},
   "source": [
    "# Collections - Deque\n",
    "\n",
    "Deque significa Doubly Ended Queue e pode substituir as listas em situações nas quais necessitamos reslizar muitas operações de inserção e deleção dos dois lados do container. O Deque foi introduzido ao módulo Collections na versão 2.4 da linguagem"
   ]
  },
  {
   "cell_type": "code",
   "execution_count": 20,
   "metadata": {},
   "outputs": [
    {
     "name": "stdout",
     "output_type": "stream",
     "text": [
      "deque([2, 3, 4, 5])\n",
      "deque([11, 10, 2, 3, 4, 5])\n"
     ]
    }
   ],
   "source": [
    "from collections import deque\n",
    "\n",
    "lista_deque = deque([1, 2, 3, 4, 5])\n",
    "\n",
    "lista_deque.popleft()\n",
    "print(lista_deque)\n",
    "\n",
    "lista_deque.extendleft([10, 11])\n",
    "print(lista_deque)"
   ]
  }
 ],
 "metadata": {
  "kernelspec": {
   "display_name": "base",
   "language": "python",
   "name": "python3"
  },
  "language_info": {
   "codemirror_mode": {
    "name": "ipython",
    "version": 3
   },
   "file_extension": ".py",
   "mimetype": "text/x-python",
   "name": "python",
   "nbconvert_exporter": "python",
   "pygments_lexer": "ipython3",
   "version": "3.10.9"
  },
  "orig_nbformat": 4
 },
 "nbformat": 4,
 "nbformat_minor": 2
}
