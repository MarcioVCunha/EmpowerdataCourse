{
 "cells": [
  {
   "attachments": {},
   "cell_type": "markdown",
   "metadata": {},
   "source": [
    "# Tratando erros com o bloco try...except\n",
    "\n",
    "Formato\n",
    "\n",
    "try:\n",
    "\n",
    "    'Código que o python irá tentar executar'\n",
    "\n",
    "except:\n",
    "\n",
    "    'Código que será executado se ocorrer uma exceção'\n",
    "\n",
    "else:\n",
    "\n",
    "    'Código que será executado quando não ocorrer a exceção (Opicional)'\n",
    "\n",
    "finally:\n",
    "\n",
    "    'Código que será sempre execurado (opicional)'"
   ]
  },
  {
   "cell_type": "code",
   "execution_count": 9,
   "metadata": {},
   "outputs": [
    {
     "ename": "ZeroDivisionError",
     "evalue": "division by zero",
     "output_type": "error",
     "traceback": [
      "\u001b[1;31m---------------------------------------------------------------------------\u001b[0m",
      "\u001b[1;31mZeroDivisionError\u001b[0m                         Traceback (most recent call last)",
      "Cell \u001b[1;32mIn[9], line 1\u001b[0m\n\u001b[1;32m----> 1\u001b[0m \u001b[39m10\u001b[39;49m \u001b[39m/\u001b[39;49m \u001b[39m0\u001b[39;49m\n",
      "\u001b[1;31mZeroDivisionError\u001b[0m: division by zero"
     ]
    }
   ],
   "source": [
    "10 / 0"
   ]
  },
  {
   "cell_type": "code",
   "execution_count": 6,
   "metadata": {},
   "outputs": [
    {
     "name": "stdout",
     "output_type": "stream",
     "text": [
      "Programa começa\n",
      "Tentando rodar o bloco\n",
      "Você está tentando dividir por 0\n",
      "Programa continua\n"
     ]
    }
   ],
   "source": [
    "print(\"Programa começa\")\n",
    "\n",
    "try:\n",
    "    print(\"Tentando rodar o bloco\")\n",
    "    print(10 / 0)\n",
    "    print(\"Rodou?\")\n",
    "except ZeroDivisionError:\n",
    "    print(\"Você está tentando dividir por 0\")\n",
    "except:\n",
    "    print(\"Erro não registrado\")\n",
    "\n",
    "print(\"Programa continua\")"
   ]
  },
  {
   "cell_type": "code",
   "execution_count": 10,
   "metadata": {},
   "outputs": [
    {
     "ename": "NameError",
     "evalue": "name 'name' is not defined",
     "output_type": "error",
     "traceback": [
      "\u001b[1;31m---------------------------------------------------------------------------\u001b[0m",
      "\u001b[1;31mNameError\u001b[0m                                 Traceback (most recent call last)",
      "Cell \u001b[1;32mIn[10], line 1\u001b[0m\n\u001b[1;32m----> 1\u001b[0m name\n",
      "\u001b[1;31mNameError\u001b[0m: name 'name' is not defined"
     ]
    }
   ],
   "source": [
    "name"
   ]
  },
  {
   "cell_type": "code",
   "execution_count": 7,
   "metadata": {},
   "outputs": [
    {
     "name": "stdout",
     "output_type": "stream",
     "text": [
      "Programa começa\n",
      "Tentando rodar o bloco\n",
      "Erro não registrado\n",
      "Programa continua\n"
     ]
    }
   ],
   "source": [
    "print(\"Programa começa\")\n",
    "\n",
    "try:\n",
    "    print(\"Tentando rodar o bloco\")\n",
    "    print(teste)\n",
    "    print(\"Rodou?\")\n",
    "except ZeroDivisionError:\n",
    "    print(\"Você está tentando dividir por 0\")\n",
    "except:\n",
    "    print(\"Erro não registrado\")\n",
    "\n",
    "print(\"Programa continua\")"
   ]
  },
  {
   "cell_type": "code",
   "execution_count": 12,
   "metadata": {},
   "outputs": [
    {
     "name": "stdout",
     "output_type": "stream",
     "text": [
      "Ocorreu o seguinte erro: division by zero\n"
     ]
    }
   ],
   "source": [
    "try:\n",
    "    print(10 / 0)\n",
    "except Exception as e: # usam muito e ou err\n",
    "    print(f\"Ocorreu o seguinte erro: {e}\")"
   ]
  },
  {
   "attachments": {},
   "cell_type": "markdown",
   "metadata": {},
   "source": [
    "# else e finally"
   ]
  },
  {
   "cell_type": "code",
   "execution_count": 20,
   "metadata": {},
   "outputs": [
    {
     "name": "stdout",
     "output_type": "stream",
     "text": [
      "5.0\n",
      "Código que sempre vai ser executado!\n"
     ]
    }
   ],
   "source": [
    "try:\n",
    "    resultado = 10 / 2\n",
    "except:\n",
    "    print(\"Ocorreu um erro\")\n",
    "else:\n",
    "    print(resultado)\n",
    "finally:\n",
    "    print(\"Código que sempre vai ser executado!\")"
   ]
  },
  {
   "cell_type": "code",
   "execution_count": null,
   "metadata": {},
   "outputs": [],
   "source": []
  }
 ],
 "metadata": {
  "kernelspec": {
   "display_name": "base",
   "language": "python",
   "name": "python3"
  },
  "language_info": {
   "codemirror_mode": {
    "name": "ipython",
    "version": 3
   },
   "file_extension": ".py",
   "mimetype": "text/x-python",
   "name": "python",
   "nbconvert_exporter": "python",
   "pygments_lexer": "ipython3",
   "version": "3.10.9"
  },
  "orig_nbformat": 4
 },
 "nbformat": 4,
 "nbformat_minor": 2
}
