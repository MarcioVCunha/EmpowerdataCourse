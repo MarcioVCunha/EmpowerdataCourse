{
 "cells": [
  {
   "cell_type": "markdown",
   "metadata": {},
   "source": [
    "# Programação Orientada a Objetos\n",
    "\n",
    "- Paradigma de programação\n",
    "- Classes e Objetos\n",
    "- Métodos e propriedades\n",
    "- 4 pilares: Abstração, encapsulamento, herança e polimorfismo"
   ]
  },
  {
   "cell_type": "markdown",
   "metadata": {},
   "source": [
    "# Classes"
   ]
  },
  {
   "cell_type": "code",
   "execution_count": 51,
   "metadata": {},
   "outputs": [],
   "source": [
    "class ConsultorioMedico: # CamelCase\n",
    "    pass\n",
    "\n",
    "class Carro:\n",
    "\n",
    "    def __init__(self, cor, marca):\n",
    "        self.cor = cor\n",
    "        self.marca = marca\n",
    "        self.dono = \"Marcio\"\n",
    "    \n",
    "    def hello_car(self):\n",
    "        print(f\"Hello {self.marca}!\")\n",
    "\n",
    "    def retorna_marca(self):\n",
    "        return self.marca"
   ]
  },
  {
   "cell_type": "markdown",
   "metadata": {},
   "source": [
    "# Objetos"
   ]
  },
  {
   "cell_type": "code",
   "execution_count": 52,
   "metadata": {},
   "outputs": [],
   "source": [
    "ferrari = Carro(\"vermelho\", \"Ferrari\")\n",
    "porshe = Carro(\"Preto\", \"Porshe\")\n",
    "kicks = Carro(\"Azul\", \"Kicks\")"
   ]
  },
  {
   "cell_type": "code",
   "execution_count": 53,
   "metadata": {},
   "outputs": [
    {
     "name": "stdout",
     "output_type": "stream",
     "text": [
      "<class '__main__.Carro'>\n",
      "<class '__main__.Carro'>\n"
     ]
    }
   ],
   "source": [
    "print(type(ferrari))\n",
    "print(type(porshe))"
   ]
  },
  {
   "cell_type": "markdown",
   "metadata": {},
   "source": [
    "# Atributos(propriedades)"
   ]
  },
  {
   "cell_type": "code",
   "execution_count": 54,
   "metadata": {},
   "outputs": [
    {
     "name": "stdout",
     "output_type": "stream",
     "text": [
      "vermelho\n",
      "Preto\n"
     ]
    }
   ],
   "source": [
    "print(ferrari.cor)\n",
    "print(porshe.cor)"
   ]
  },
  {
   "cell_type": "code",
   "execution_count": 57,
   "metadata": {},
   "outputs": [
    {
     "name": "stdout",
     "output_type": "stream",
     "text": [
      "Azul\n",
      "Marcio\n",
      "Kicks\n",
      "Kicks\n",
      "Hello Kicks!\n"
     ]
    }
   ],
   "source": [
    "print(kicks.cor)\n",
    "print(kicks.dono)\n",
    "print(kicks.marca)\n",
    "print(kicks.retorna_marca())\n",
    "kicks.hello_car()"
   ]
  },
  {
   "cell_type": "markdown",
   "metadata": {},
   "source": [
    "# Métodos\n",
    "\n",
    "- São basicamente as funções criadas dentro de uma classe"
   ]
  },
  {
   "cell_type": "code",
   "execution_count": 56,
   "metadata": {},
   "outputs": [
    {
     "name": "stdout",
     "output_type": "stream",
     "text": [
      "Hello Ferrari!\n",
      "Hello Porshe!\n"
     ]
    }
   ],
   "source": [
    "ferrari.hello_car()\n",
    "porshe.hello_car()"
   ]
  },
  {
   "cell_type": "markdown",
   "metadata": {},
   "source": [
    "# Método construtor\n",
    "\n",
    "- Método que sempre é executado quando um objeto da classe é instanciado\n",
    "- Criamos usando o init"
   ]
  }
 ],
 "metadata": {
  "kernelspec": {
   "display_name": "base",
   "language": "python",
   "name": "python3"
  },
  "language_info": {
   "codemirror_mode": {
    "name": "ipython",
    "version": 3
   },
   "file_extension": ".py",
   "mimetype": "text/x-python",
   "name": "python",
   "nbconvert_exporter": "python",
   "pygments_lexer": "ipython3",
   "version": "3.10.9"
  },
  "orig_nbformat": 4
 },
 "nbformat": 4,
 "nbformat_minor": 2
}
